{
  "nbformat": 4,
  "nbformat_minor": 0,
  "metadata": {
    "colab": {
      "name": "Employee Attrition",
      "provenance": [],
      "collapsed_sections": []
    },
    "kernelspec": {
      "name": "python3",
      "display_name": "Python 3"
    }
  },
  "cells": [
    {
      "cell_type": "markdown",
      "metadata": {
        "id": "18KtmJAFyh1-",
        "colab_type": "text"
      },
      "source": [
        "# Introduction to dataset"
      ]
    },
    {
      "cell_type": "markdown",
      "metadata": {
        "id": "S8ibNupHyqaj",
        "colab_type": "text"
      },
      "source": [
        "The data is from the IBM HR Analytics available on Kaggle. Inline with my personal interest in People Analytics, I delved into the dataset to find any  insights. \n",
        "\n",
        "Technically, it was a very clean dataset. However, I had to grapple with the issue of unexpected high correlations amongst my per say \"independent\" variables.\n",
        "\n",
        "I am open to constructive criticism!\n",
        "\n"
      ]
    },
    {
      "cell_type": "markdown",
      "metadata": {
        "id": "qo9Gu7YQh42F",
        "colab_type": "text"
      },
      "source": [
        "# Data and Package import"
      ]
    },
    {
      "cell_type": "code",
      "metadata": {
        "id": "dx-xFvOSwFFJ",
        "colab_type": "code",
        "colab": {}
      },
      "source": [
        "import pandas as pd\n",
        "import matplotlib.pyplot as plt\n",
        "import numpy as np\n",
        "import seaborn as sns\n",
        "from sklearn.model_selection import train_test_split\n",
        "from sklearn.preprocessing import StandardScaler\n",
        "from imblearn.over_sampling import SMOTE\n",
        "from sklearn.feature_selection import RFE\n",
        "from sklearn.linear_model import LogisticRegression\n",
        "from sklearn import metrics\n",
        "from sklearn.metrics import confusion_matrix\n",
        "from sklearn.metrics import classification_report\n",
        "from sklearn.metrics import roc_auc_score\n",
        "from sklearn.metrics import roc_curve\n",
        "import statsmodels.api as sm\n",
        "from sklearn import metrics\n",
        "from sklearn.model_selection import cross_validate"
      ],
      "execution_count": 0,
      "outputs": []
    },
    {
      "cell_type": "code",
      "metadata": {
        "id": "ZTF4N9CpvjDf",
        "colab_type": "code",
        "outputId": "54133cbc-2b24-415a-8618-28990a79f172",
        "colab": {
          "resources": {
            "http://localhost:8080/nbextensions/google.colab/files.js": {
              "data": "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",
              "ok": true,
              "headers": [
                [
                  "content-type",
                  "application/javascript"
                ]
              ],
              "status": 200,
              "status_text": ""
            }
          },
          "base_uri": "https://localhost:8080/",
          "height": 74
        }
      },
      "source": [
        "from google.colab import files\n",
        "uploaded = files.upload()\n"
      ],
      "execution_count": 5,
      "outputs": [
        {
          "output_type": "display_data",
          "data": {
            "text/html": [
              "\n",
              "     <input type=\"file\" id=\"files-85a69eed-1bb8-4b2c-ba1e-5e1eaf29a172\" name=\"files[]\" multiple disabled />\n",
              "     <output id=\"result-85a69eed-1bb8-4b2c-ba1e-5e1eaf29a172\">\n",
              "      Upload widget is only available when the cell has been executed in the\n",
              "      current browser session. Please rerun this cell to enable.\n",
              "      </output>\n",
              "      <script src=\"/nbextensions/google.colab/files.js\"></script> "
            ],
            "text/plain": [
              "<IPython.core.display.HTML object>"
            ]
          },
          "metadata": {
            "tags": []
          }
        },
        {
          "output_type": "stream",
          "text": [
            "Saving WA_Fn-UseC_-HR-Employee-Attrition.csv to WA_Fn-UseC_-HR-Employee-Attrition.csv\n"
          ],
          "name": "stdout"
        }
      ]
    },
    {
      "cell_type": "code",
      "metadata": {
        "id": "0XOFYKXDv1pB",
        "colab_type": "code",
        "colab": {}
      },
      "source": [
        "import io\n",
        "df = pd.read_csv(io.BytesIO(uploaded['WA_Fn-UseC_-HR-Employee-Attrition.csv']))"
      ],
      "execution_count": 0,
      "outputs": []
    },
    {
      "cell_type": "markdown",
      "metadata": {
        "id": "_1y0La3rx66U",
        "colab_type": "text"
      },
      "source": [
        "https://www.kaggle.com/pavansubhasht/ibm-hr-analytics-attrition-dataset"
      ]
    },
    {
      "cell_type": "markdown",
      "metadata": {
        "id": "srVj2JzDhWLt",
        "colab_type": "text"
      },
      "source": [
        "# Exploratory Data Analysis\n",
        "\n"
      ]
    },
    {
      "cell_type": "code",
      "metadata": {
        "id": "AVhwLU9qvwPd",
        "colab_type": "code",
        "outputId": "10cc55b0-945b-4f0f-88cd-5d15882fd5ed",
        "colab": {
          "base_uri": "https://localhost:8080/",
          "height": 304
        }
      },
      "source": [
        "df.describe()"
      ],
      "execution_count": 7,
      "outputs": [
        {
          "output_type": "execute_result",
          "data": {
            "text/html": [
              "<div>\n",
              "<style scoped>\n",
              "    .dataframe tbody tr th:only-of-type {\n",
              "        vertical-align: middle;\n",
              "    }\n",
              "\n",
              "    .dataframe tbody tr th {\n",
              "        vertical-align: top;\n",
              "    }\n",
              "\n",
              "    .dataframe thead th {\n",
              "        text-align: right;\n",
              "    }\n",
              "</style>\n",
              "<table border=\"1\" class=\"dataframe\">\n",
              "  <thead>\n",
              "    <tr style=\"text-align: right;\">\n",
              "      <th></th>\n",
              "      <th>Age</th>\n",
              "      <th>DailyRate</th>\n",
              "      <th>DistanceFromHome</th>\n",
              "      <th>Education</th>\n",
              "      <th>EmployeeCount</th>\n",
              "      <th>EmployeeNumber</th>\n",
              "      <th>EnvironmentSatisfaction</th>\n",
              "      <th>HourlyRate</th>\n",
              "      <th>JobInvolvement</th>\n",
              "      <th>JobLevel</th>\n",
              "      <th>JobSatisfaction</th>\n",
              "      <th>MonthlyIncome</th>\n",
              "      <th>MonthlyRate</th>\n",
              "      <th>NumCompaniesWorked</th>\n",
              "      <th>PercentSalaryHike</th>\n",
              "      <th>PerformanceRating</th>\n",
              "      <th>RelationshipSatisfaction</th>\n",
              "      <th>StandardHours</th>\n",
              "      <th>StockOptionLevel</th>\n",
              "      <th>TotalWorkingYears</th>\n",
              "      <th>TrainingTimesLastYear</th>\n",
              "      <th>WorkLifeBalance</th>\n",
              "      <th>YearsAtCompany</th>\n",
              "      <th>YearsInCurrentRole</th>\n",
              "      <th>YearsSinceLastPromotion</th>\n",
              "      <th>YearsWithCurrManager</th>\n",
              "    </tr>\n",
              "  </thead>\n",
              "  <tbody>\n",
              "    <tr>\n",
              "      <th>count</th>\n",
              "      <td>1470.000000</td>\n",
              "      <td>1470.000000</td>\n",
              "      <td>1470.000000</td>\n",
              "      <td>1470.000000</td>\n",
              "      <td>1470.0</td>\n",
              "      <td>1470.000000</td>\n",
              "      <td>1470.000000</td>\n",
              "      <td>1470.000000</td>\n",
              "      <td>1470.000000</td>\n",
              "      <td>1470.000000</td>\n",
              "      <td>1470.000000</td>\n",
              "      <td>1470.000000</td>\n",
              "      <td>1470.000000</td>\n",
              "      <td>1470.000000</td>\n",
              "      <td>1470.000000</td>\n",
              "      <td>1470.000000</td>\n",
              "      <td>1470.000000</td>\n",
              "      <td>1470.0</td>\n",
              "      <td>1470.000000</td>\n",
              "      <td>1470.000000</td>\n",
              "      <td>1470.000000</td>\n",
              "      <td>1470.000000</td>\n",
              "      <td>1470.000000</td>\n",
              "      <td>1470.000000</td>\n",
              "      <td>1470.000000</td>\n",
              "      <td>1470.000000</td>\n",
              "    </tr>\n",
              "    <tr>\n",
              "      <th>mean</th>\n",
              "      <td>36.923810</td>\n",
              "      <td>802.485714</td>\n",
              "      <td>9.192517</td>\n",
              "      <td>2.912925</td>\n",
              "      <td>1.0</td>\n",
              "      <td>1024.865306</td>\n",
              "      <td>2.721769</td>\n",
              "      <td>65.891156</td>\n",
              "      <td>2.729932</td>\n",
              "      <td>2.063946</td>\n",
              "      <td>2.728571</td>\n",
              "      <td>6502.931293</td>\n",
              "      <td>14313.103401</td>\n",
              "      <td>2.693197</td>\n",
              "      <td>15.209524</td>\n",
              "      <td>3.153741</td>\n",
              "      <td>2.712245</td>\n",
              "      <td>80.0</td>\n",
              "      <td>0.793878</td>\n",
              "      <td>11.279592</td>\n",
              "      <td>2.799320</td>\n",
              "      <td>2.761224</td>\n",
              "      <td>7.008163</td>\n",
              "      <td>4.229252</td>\n",
              "      <td>2.187755</td>\n",
              "      <td>4.123129</td>\n",
              "    </tr>\n",
              "    <tr>\n",
              "      <th>std</th>\n",
              "      <td>9.135373</td>\n",
              "      <td>403.509100</td>\n",
              "      <td>8.106864</td>\n",
              "      <td>1.024165</td>\n",
              "      <td>0.0</td>\n",
              "      <td>602.024335</td>\n",
              "      <td>1.093082</td>\n",
              "      <td>20.329428</td>\n",
              "      <td>0.711561</td>\n",
              "      <td>1.106940</td>\n",
              "      <td>1.102846</td>\n",
              "      <td>4707.956783</td>\n",
              "      <td>7117.786044</td>\n",
              "      <td>2.498009</td>\n",
              "      <td>3.659938</td>\n",
              "      <td>0.360824</td>\n",
              "      <td>1.081209</td>\n",
              "      <td>0.0</td>\n",
              "      <td>0.852077</td>\n",
              "      <td>7.780782</td>\n",
              "      <td>1.289271</td>\n",
              "      <td>0.706476</td>\n",
              "      <td>6.126525</td>\n",
              "      <td>3.623137</td>\n",
              "      <td>3.222430</td>\n",
              "      <td>3.568136</td>\n",
              "    </tr>\n",
              "    <tr>\n",
              "      <th>min</th>\n",
              "      <td>18.000000</td>\n",
              "      <td>102.000000</td>\n",
              "      <td>1.000000</td>\n",
              "      <td>1.000000</td>\n",
              "      <td>1.0</td>\n",
              "      <td>1.000000</td>\n",
              "      <td>1.000000</td>\n",
              "      <td>30.000000</td>\n",
              "      <td>1.000000</td>\n",
              "      <td>1.000000</td>\n",
              "      <td>1.000000</td>\n",
              "      <td>1009.000000</td>\n",
              "      <td>2094.000000</td>\n",
              "      <td>0.000000</td>\n",
              "      <td>11.000000</td>\n",
              "      <td>3.000000</td>\n",
              "      <td>1.000000</td>\n",
              "      <td>80.0</td>\n",
              "      <td>0.000000</td>\n",
              "      <td>0.000000</td>\n",
              "      <td>0.000000</td>\n",
              "      <td>1.000000</td>\n",
              "      <td>0.000000</td>\n",
              "      <td>0.000000</td>\n",
              "      <td>0.000000</td>\n",
              "      <td>0.000000</td>\n",
              "    </tr>\n",
              "    <tr>\n",
              "      <th>25%</th>\n",
              "      <td>30.000000</td>\n",
              "      <td>465.000000</td>\n",
              "      <td>2.000000</td>\n",
              "      <td>2.000000</td>\n",
              "      <td>1.0</td>\n",
              "      <td>491.250000</td>\n",
              "      <td>2.000000</td>\n",
              "      <td>48.000000</td>\n",
              "      <td>2.000000</td>\n",
              "      <td>1.000000</td>\n",
              "      <td>2.000000</td>\n",
              "      <td>2911.000000</td>\n",
              "      <td>8047.000000</td>\n",
              "      <td>1.000000</td>\n",
              "      <td>12.000000</td>\n",
              "      <td>3.000000</td>\n",
              "      <td>2.000000</td>\n",
              "      <td>80.0</td>\n",
              "      <td>0.000000</td>\n",
              "      <td>6.000000</td>\n",
              "      <td>2.000000</td>\n",
              "      <td>2.000000</td>\n",
              "      <td>3.000000</td>\n",
              "      <td>2.000000</td>\n",
              "      <td>0.000000</td>\n",
              "      <td>2.000000</td>\n",
              "    </tr>\n",
              "    <tr>\n",
              "      <th>50%</th>\n",
              "      <td>36.000000</td>\n",
              "      <td>802.000000</td>\n",
              "      <td>7.000000</td>\n",
              "      <td>3.000000</td>\n",
              "      <td>1.0</td>\n",
              "      <td>1020.500000</td>\n",
              "      <td>3.000000</td>\n",
              "      <td>66.000000</td>\n",
              "      <td>3.000000</td>\n",
              "      <td>2.000000</td>\n",
              "      <td>3.000000</td>\n",
              "      <td>4919.000000</td>\n",
              "      <td>14235.500000</td>\n",
              "      <td>2.000000</td>\n",
              "      <td>14.000000</td>\n",
              "      <td>3.000000</td>\n",
              "      <td>3.000000</td>\n",
              "      <td>80.0</td>\n",
              "      <td>1.000000</td>\n",
              "      <td>10.000000</td>\n",
              "      <td>3.000000</td>\n",
              "      <td>3.000000</td>\n",
              "      <td>5.000000</td>\n",
              "      <td>3.000000</td>\n",
              "      <td>1.000000</td>\n",
              "      <td>3.000000</td>\n",
              "    </tr>\n",
              "    <tr>\n",
              "      <th>75%</th>\n",
              "      <td>43.000000</td>\n",
              "      <td>1157.000000</td>\n",
              "      <td>14.000000</td>\n",
              "      <td>4.000000</td>\n",
              "      <td>1.0</td>\n",
              "      <td>1555.750000</td>\n",
              "      <td>4.000000</td>\n",
              "      <td>83.750000</td>\n",
              "      <td>3.000000</td>\n",
              "      <td>3.000000</td>\n",
              "      <td>4.000000</td>\n",
              "      <td>8379.000000</td>\n",
              "      <td>20461.500000</td>\n",
              "      <td>4.000000</td>\n",
              "      <td>18.000000</td>\n",
              "      <td>3.000000</td>\n",
              "      <td>4.000000</td>\n",
              "      <td>80.0</td>\n",
              "      <td>1.000000</td>\n",
              "      <td>15.000000</td>\n",
              "      <td>3.000000</td>\n",
              "      <td>3.000000</td>\n",
              "      <td>9.000000</td>\n",
              "      <td>7.000000</td>\n",
              "      <td>3.000000</td>\n",
              "      <td>7.000000</td>\n",
              "    </tr>\n",
              "    <tr>\n",
              "      <th>max</th>\n",
              "      <td>60.000000</td>\n",
              "      <td>1499.000000</td>\n",
              "      <td>29.000000</td>\n",
              "      <td>5.000000</td>\n",
              "      <td>1.0</td>\n",
              "      <td>2068.000000</td>\n",
              "      <td>4.000000</td>\n",
              "      <td>100.000000</td>\n",
              "      <td>4.000000</td>\n",
              "      <td>5.000000</td>\n",
              "      <td>4.000000</td>\n",
              "      <td>19999.000000</td>\n",
              "      <td>26999.000000</td>\n",
              "      <td>9.000000</td>\n",
              "      <td>25.000000</td>\n",
              "      <td>4.000000</td>\n",
              "      <td>4.000000</td>\n",
              "      <td>80.0</td>\n",
              "      <td>3.000000</td>\n",
              "      <td>40.000000</td>\n",
              "      <td>6.000000</td>\n",
              "      <td>4.000000</td>\n",
              "      <td>40.000000</td>\n",
              "      <td>18.000000</td>\n",
              "      <td>15.000000</td>\n",
              "      <td>17.000000</td>\n",
              "    </tr>\n",
              "  </tbody>\n",
              "</table>\n",
              "</div>"
            ],
            "text/plain": [
              "               Age    DailyRate  ...  YearsSinceLastPromotion  YearsWithCurrManager\n",
              "count  1470.000000  1470.000000  ...              1470.000000           1470.000000\n",
              "mean     36.923810   802.485714  ...                 2.187755              4.123129\n",
              "std       9.135373   403.509100  ...                 3.222430              3.568136\n",
              "min      18.000000   102.000000  ...                 0.000000              0.000000\n",
              "25%      30.000000   465.000000  ...                 0.000000              2.000000\n",
              "50%      36.000000   802.000000  ...                 1.000000              3.000000\n",
              "75%      43.000000  1157.000000  ...                 3.000000              7.000000\n",
              "max      60.000000  1499.000000  ...                15.000000             17.000000\n",
              "\n",
              "[8 rows x 26 columns]"
            ]
          },
          "metadata": {
            "tags": []
          },
          "execution_count": 7
        }
      ]
    },
    {
      "cell_type": "code",
      "metadata": {
        "id": "2dp79Q_Qwsei",
        "colab_type": "code",
        "outputId": "84af42bb-bd49-4298-ea7b-6b0f3c69be67",
        "colab": {
          "base_uri": "https://localhost:8080/",
          "height": 299
        }
      },
      "source": [
        "df.head()"
      ],
      "execution_count": 8,
      "outputs": [
        {
          "output_type": "execute_result",
          "data": {
            "text/html": [
              "<div>\n",
              "<style scoped>\n",
              "    .dataframe tbody tr th:only-of-type {\n",
              "        vertical-align: middle;\n",
              "    }\n",
              "\n",
              "    .dataframe tbody tr th {\n",
              "        vertical-align: top;\n",
              "    }\n",
              "\n",
              "    .dataframe thead th {\n",
              "        text-align: right;\n",
              "    }\n",
              "</style>\n",
              "<table border=\"1\" class=\"dataframe\">\n",
              "  <thead>\n",
              "    <tr style=\"text-align: right;\">\n",
              "      <th></th>\n",
              "      <th>Age</th>\n",
              "      <th>Attrition</th>\n",
              "      <th>BusinessTravel</th>\n",
              "      <th>DailyRate</th>\n",
              "      <th>Department</th>\n",
              "      <th>DistanceFromHome</th>\n",
              "      <th>Education</th>\n",
              "      <th>EducationField</th>\n",
              "      <th>EmployeeCount</th>\n",
              "      <th>EmployeeNumber</th>\n",
              "      <th>EnvironmentSatisfaction</th>\n",
              "      <th>Gender</th>\n",
              "      <th>HourlyRate</th>\n",
              "      <th>JobInvolvement</th>\n",
              "      <th>JobLevel</th>\n",
              "      <th>JobRole</th>\n",
              "      <th>JobSatisfaction</th>\n",
              "      <th>MaritalStatus</th>\n",
              "      <th>MonthlyIncome</th>\n",
              "      <th>MonthlyRate</th>\n",
              "      <th>NumCompaniesWorked</th>\n",
              "      <th>Over18</th>\n",
              "      <th>OverTime</th>\n",
              "      <th>PercentSalaryHike</th>\n",
              "      <th>PerformanceRating</th>\n",
              "      <th>RelationshipSatisfaction</th>\n",
              "      <th>StandardHours</th>\n",
              "      <th>StockOptionLevel</th>\n",
              "      <th>TotalWorkingYears</th>\n",
              "      <th>TrainingTimesLastYear</th>\n",
              "      <th>WorkLifeBalance</th>\n",
              "      <th>YearsAtCompany</th>\n",
              "      <th>YearsInCurrentRole</th>\n",
              "      <th>YearsSinceLastPromotion</th>\n",
              "      <th>YearsWithCurrManager</th>\n",
              "    </tr>\n",
              "  </thead>\n",
              "  <tbody>\n",
              "    <tr>\n",
              "      <th>0</th>\n",
              "      <td>41</td>\n",
              "      <td>Yes</td>\n",
              "      <td>Travel_Rarely</td>\n",
              "      <td>1102</td>\n",
              "      <td>Sales</td>\n",
              "      <td>1</td>\n",
              "      <td>2</td>\n",
              "      <td>Life Sciences</td>\n",
              "      <td>1</td>\n",
              "      <td>1</td>\n",
              "      <td>2</td>\n",
              "      <td>Female</td>\n",
              "      <td>94</td>\n",
              "      <td>3</td>\n",
              "      <td>2</td>\n",
              "      <td>Sales Executive</td>\n",
              "      <td>4</td>\n",
              "      <td>Single</td>\n",
              "      <td>5993</td>\n",
              "      <td>19479</td>\n",
              "      <td>8</td>\n",
              "      <td>Y</td>\n",
              "      <td>Yes</td>\n",
              "      <td>11</td>\n",
              "      <td>3</td>\n",
              "      <td>1</td>\n",
              "      <td>80</td>\n",
              "      <td>0</td>\n",
              "      <td>8</td>\n",
              "      <td>0</td>\n",
              "      <td>1</td>\n",
              "      <td>6</td>\n",
              "      <td>4</td>\n",
              "      <td>0</td>\n",
              "      <td>5</td>\n",
              "    </tr>\n",
              "    <tr>\n",
              "      <th>1</th>\n",
              "      <td>49</td>\n",
              "      <td>No</td>\n",
              "      <td>Travel_Frequently</td>\n",
              "      <td>279</td>\n",
              "      <td>Research &amp; Development</td>\n",
              "      <td>8</td>\n",
              "      <td>1</td>\n",
              "      <td>Life Sciences</td>\n",
              "      <td>1</td>\n",
              "      <td>2</td>\n",
              "      <td>3</td>\n",
              "      <td>Male</td>\n",
              "      <td>61</td>\n",
              "      <td>2</td>\n",
              "      <td>2</td>\n",
              "      <td>Research Scientist</td>\n",
              "      <td>2</td>\n",
              "      <td>Married</td>\n",
              "      <td>5130</td>\n",
              "      <td>24907</td>\n",
              "      <td>1</td>\n",
              "      <td>Y</td>\n",
              "      <td>No</td>\n",
              "      <td>23</td>\n",
              "      <td>4</td>\n",
              "      <td>4</td>\n",
              "      <td>80</td>\n",
              "      <td>1</td>\n",
              "      <td>10</td>\n",
              "      <td>3</td>\n",
              "      <td>3</td>\n",
              "      <td>10</td>\n",
              "      <td>7</td>\n",
              "      <td>1</td>\n",
              "      <td>7</td>\n",
              "    </tr>\n",
              "    <tr>\n",
              "      <th>2</th>\n",
              "      <td>37</td>\n",
              "      <td>Yes</td>\n",
              "      <td>Travel_Rarely</td>\n",
              "      <td>1373</td>\n",
              "      <td>Research &amp; Development</td>\n",
              "      <td>2</td>\n",
              "      <td>2</td>\n",
              "      <td>Other</td>\n",
              "      <td>1</td>\n",
              "      <td>4</td>\n",
              "      <td>4</td>\n",
              "      <td>Male</td>\n",
              "      <td>92</td>\n",
              "      <td>2</td>\n",
              "      <td>1</td>\n",
              "      <td>Laboratory Technician</td>\n",
              "      <td>3</td>\n",
              "      <td>Single</td>\n",
              "      <td>2090</td>\n",
              "      <td>2396</td>\n",
              "      <td>6</td>\n",
              "      <td>Y</td>\n",
              "      <td>Yes</td>\n",
              "      <td>15</td>\n",
              "      <td>3</td>\n",
              "      <td>2</td>\n",
              "      <td>80</td>\n",
              "      <td>0</td>\n",
              "      <td>7</td>\n",
              "      <td>3</td>\n",
              "      <td>3</td>\n",
              "      <td>0</td>\n",
              "      <td>0</td>\n",
              "      <td>0</td>\n",
              "      <td>0</td>\n",
              "    </tr>\n",
              "    <tr>\n",
              "      <th>3</th>\n",
              "      <td>33</td>\n",
              "      <td>No</td>\n",
              "      <td>Travel_Frequently</td>\n",
              "      <td>1392</td>\n",
              "      <td>Research &amp; Development</td>\n",
              "      <td>3</td>\n",
              "      <td>4</td>\n",
              "      <td>Life Sciences</td>\n",
              "      <td>1</td>\n",
              "      <td>5</td>\n",
              "      <td>4</td>\n",
              "      <td>Female</td>\n",
              "      <td>56</td>\n",
              "      <td>3</td>\n",
              "      <td>1</td>\n",
              "      <td>Research Scientist</td>\n",
              "      <td>3</td>\n",
              "      <td>Married</td>\n",
              "      <td>2909</td>\n",
              "      <td>23159</td>\n",
              "      <td>1</td>\n",
              "      <td>Y</td>\n",
              "      <td>Yes</td>\n",
              "      <td>11</td>\n",
              "      <td>3</td>\n",
              "      <td>3</td>\n",
              "      <td>80</td>\n",
              "      <td>0</td>\n",
              "      <td>8</td>\n",
              "      <td>3</td>\n",
              "      <td>3</td>\n",
              "      <td>8</td>\n",
              "      <td>7</td>\n",
              "      <td>3</td>\n",
              "      <td>0</td>\n",
              "    </tr>\n",
              "    <tr>\n",
              "      <th>4</th>\n",
              "      <td>27</td>\n",
              "      <td>No</td>\n",
              "      <td>Travel_Rarely</td>\n",
              "      <td>591</td>\n",
              "      <td>Research &amp; Development</td>\n",
              "      <td>2</td>\n",
              "      <td>1</td>\n",
              "      <td>Medical</td>\n",
              "      <td>1</td>\n",
              "      <td>7</td>\n",
              "      <td>1</td>\n",
              "      <td>Male</td>\n",
              "      <td>40</td>\n",
              "      <td>3</td>\n",
              "      <td>1</td>\n",
              "      <td>Laboratory Technician</td>\n",
              "      <td>2</td>\n",
              "      <td>Married</td>\n",
              "      <td>3468</td>\n",
              "      <td>16632</td>\n",
              "      <td>9</td>\n",
              "      <td>Y</td>\n",
              "      <td>No</td>\n",
              "      <td>12</td>\n",
              "      <td>3</td>\n",
              "      <td>4</td>\n",
              "      <td>80</td>\n",
              "      <td>1</td>\n",
              "      <td>6</td>\n",
              "      <td>3</td>\n",
              "      <td>3</td>\n",
              "      <td>2</td>\n",
              "      <td>2</td>\n",
              "      <td>2</td>\n",
              "      <td>2</td>\n",
              "    </tr>\n",
              "  </tbody>\n",
              "</table>\n",
              "</div>"
            ],
            "text/plain": [
              "   Age Attrition  ... YearsSinceLastPromotion  YearsWithCurrManager\n",
              "0   41       Yes  ...                       0                     5\n",
              "1   49        No  ...                       1                     7\n",
              "2   37       Yes  ...                       0                     0\n",
              "3   33        No  ...                       3                     0\n",
              "4   27        No  ...                       2                     2\n",
              "\n",
              "[5 rows x 35 columns]"
            ]
          },
          "metadata": {
            "tags": []
          },
          "execution_count": 8
        }
      ]
    },
    {
      "cell_type": "code",
      "metadata": {
        "id": "xB6mCt9zIhYN",
        "colab_type": "code",
        "outputId": "d0dd0a33-d6c2-4d86-989a-f594f6a82403",
        "colab": {
          "base_uri": "https://localhost:8080/",
          "height": 202
        }
      },
      "source": [
        "df.columns"
      ],
      "execution_count": 9,
      "outputs": [
        {
          "output_type": "execute_result",
          "data": {
            "text/plain": [
              "Index(['Age', 'Attrition', 'BusinessTravel', 'DailyRate', 'Department',\n",
              "       'DistanceFromHome', 'Education', 'EducationField', 'EmployeeCount',\n",
              "       'EmployeeNumber', 'EnvironmentSatisfaction', 'Gender', 'HourlyRate',\n",
              "       'JobInvolvement', 'JobLevel', 'JobRole', 'JobSatisfaction',\n",
              "       'MaritalStatus', 'MonthlyIncome', 'MonthlyRate', 'NumCompaniesWorked',\n",
              "       'Over18', 'OverTime', 'PercentSalaryHike', 'PerformanceRating',\n",
              "       'RelationshipSatisfaction', 'StandardHours', 'StockOptionLevel',\n",
              "       'TotalWorkingYears', 'TrainingTimesLastYear', 'WorkLifeBalance',\n",
              "       'YearsAtCompany', 'YearsInCurrentRole', 'YearsSinceLastPromotion',\n",
              "       'YearsWithCurrManager'],\n",
              "      dtype='object')"
            ]
          },
          "metadata": {
            "tags": []
          },
          "execution_count": 9
        }
      ]
    },
    {
      "cell_type": "code",
      "metadata": {
        "id": "OXOSBopCIjP5",
        "colab_type": "code",
        "outputId": "486dbb5b-9c72-42f7-8e9a-1410e40b00a3",
        "colab": {
          "base_uri": "https://localhost:8080/",
          "height": 34
        }
      },
      "source": [
        "df.shape"
      ],
      "execution_count": 10,
      "outputs": [
        {
          "output_type": "execute_result",
          "data": {
            "text/plain": [
              "(1470, 35)"
            ]
          },
          "metadata": {
            "tags": []
          },
          "execution_count": 10
        }
      ]
    },
    {
      "cell_type": "code",
      "metadata": {
        "id": "gkJGkMRUIzfJ",
        "colab_type": "code",
        "outputId": "c80d493d-fbe2-4721-fb73-0c1002f691bc",
        "colab": {
          "base_uri": "https://localhost:8080/",
          "height": 622
        }
      },
      "source": [
        "df.isnull().any()"
      ],
      "execution_count": 11,
      "outputs": [
        {
          "output_type": "execute_result",
          "data": {
            "text/plain": [
              "Age                         False\n",
              "Attrition                   False\n",
              "BusinessTravel              False\n",
              "DailyRate                   False\n",
              "Department                  False\n",
              "DistanceFromHome            False\n",
              "Education                   False\n",
              "EducationField              False\n",
              "EmployeeCount               False\n",
              "EmployeeNumber              False\n",
              "EnvironmentSatisfaction     False\n",
              "Gender                      False\n",
              "HourlyRate                  False\n",
              "JobInvolvement              False\n",
              "JobLevel                    False\n",
              "JobRole                     False\n",
              "JobSatisfaction             False\n",
              "MaritalStatus               False\n",
              "MonthlyIncome               False\n",
              "MonthlyRate                 False\n",
              "NumCompaniesWorked          False\n",
              "Over18                      False\n",
              "OverTime                    False\n",
              "PercentSalaryHike           False\n",
              "PerformanceRating           False\n",
              "RelationshipSatisfaction    False\n",
              "StandardHours               False\n",
              "StockOptionLevel            False\n",
              "TotalWorkingYears           False\n",
              "TrainingTimesLastYear       False\n",
              "WorkLifeBalance             False\n",
              "YearsAtCompany              False\n",
              "YearsInCurrentRole          False\n",
              "YearsSinceLastPromotion     False\n",
              "YearsWithCurrManager        False\n",
              "dtype: bool"
            ]
          },
          "metadata": {
            "tags": []
          },
          "execution_count": 11
        }
      ]
    },
    {
      "cell_type": "markdown",
      "metadata": {
        "id": "zL_8x47JI94O",
        "colab_type": "text"
      },
      "source": [
        "No Missing Values"
      ]
    },
    {
      "cell_type": "code",
      "metadata": {
        "id": "4mKEFRwQeVoW",
        "colab_type": "code",
        "colab": {}
      },
      "source": [
        "categor=df.loc[:,['Attrition',\t'BusinessTravel','Department','EducationField', 'Gender','JobRole','MaritalStatus','Over18','OverTime']]\n"
      ],
      "execution_count": 0,
      "outputs": []
    },
    {
      "cell_type": "code",
      "metadata": {
        "id": "hN1BMizwVbqS",
        "colab_type": "code",
        "colab": {}
      },
      "source": [
        "def viz (datafr):\n",
        "  for i in range(datafr.shape[1]):\n",
        "     print(datafr.iloc[:,i].value_counts(dropna=False),end='\\n')\n",
        "     datafr.iloc[:,i].value_counts().plot(kind='bar')\n",
        "     plt.show()"
      ],
      "execution_count": 0,
      "outputs": []
    },
    {
      "cell_type": "code",
      "metadata": {
        "id": "mz4q5slxfsgp",
        "colab_type": "code",
        "outputId": "65f1bcfb-f081-4459-b34e-ceb8cabe52e0",
        "colab": {
          "base_uri": "https://localhost:8080/",
          "height": 1000
        }
      },
      "source": [
        "viz(categor)"
      ],
      "execution_count": 14,
      "outputs": [
        {
          "output_type": "stream",
          "text": [
            "No     1233\n",
            "Yes     237\n",
            "Name: Attrition, dtype: int64\n"
          ],
          "name": "stdout"
        },
        {
          "output_type": "display_data",
          "data": {
            "image/png": "[encoded data removed]",
            "text/plain": [
              "<Figure size 432x288 with 1 Axes>"
            ]
          },
          "metadata": {
            "tags": []
          }
        },
        {
          "output_type": "stream",
          "text": [
            "Travel_Rarely        1043\n",
            "Travel_Frequently     277\n",
            "Non-Travel            150\n",
            "Name: BusinessTravel, dtype: int64\n"
          ],
          "name": "stdout"
        },
        {
          "output_type": "display_data",
          "data": {
            "image/png": "[encoded data removed]",
            "text/plain": [
              "<Figure size 432x288 with 1 Axes>"
            ]
          },
          "metadata": {
            "tags": []
          }
        },
        {
          "output_type": "stream",
          "text": [
            "Research & Development    961\n",
            "Sales                     446\n",
            "Human Resources            63\n",
            "Name: Department, dtype: int64\n"
          ],
          "name": "stdout"
        },
        {
          "output_type": "display_data",
          "data": {
            "image/png": "[encoded data removed]",
            "text/plain": [
              "<Figure size 432x288 with 1 Axes>"
            ]
          },
          "metadata": {
            "tags": []
          }
        },
        {
          "output_type": "stream",
          "text": [
            "Life Sciences       606\n",
            "Medical             464\n",
            "Marketing           159\n",
            "Technical Degree    132\n",
            "Other                82\n",
            "Human Resources      27\n",
            "Name: EducationField, dtype: int64\n"
          ],
          "name": "stdout"
        },
        {
          "output_type": "display_data",
          "data": {
            "image/png": "[encoded data removed]",
            "text/plain": [
              "<Figure size 432x288 with 1 Axes>"
            ]
          },
          "metadata": {
            "tags": []
          }
        },
        {
          "output_type": "stream",
          "text": [
            "Male      882\n",
            "Female    588\n",
            "Name: Gender, dtype: int64\n"
          ],
          "name": "stdout"
        },
        {
          "output_type": "display_data",
          "data": {
            "image/png": "[encoded data removed]",
            "text/plain": [
              "<Figure size 432x288 with 1 Axes>"
            ]
          },
          "metadata": {
            "tags": []
          }
        },
        {
          "output_type": "stream",
          "text": [
            "Sales Executive              326\n",
            "Research Scientist           292\n",
            "Laboratory Technician        259\n",
            "Manufacturing Director       145\n",
            "Healthcare Representative    131\n",
            "Manager                      102\n",
            "Sales Representative          83\n",
            "Research Director             80\n",
            "Human Resources               52\n",
            "Name: JobRole, dtype: int64\n"
          ],
          "name": "stdout"
        },
        {
          "output_type": "display_data",
          "data": {
            "image/png": "[encoded data removed]",
            "text/plain": [
              "<Figure size 432x288 with 1 Axes>"
            ]
          },
          "metadata": {
            "tags": []
          }
        },
        {
          "output_type": "stream",
          "text": [
            "Married     673\n",
            "Single      470\n",
            "Divorced    327\n",
            "Name: MaritalStatus, dtype: int64\n"
          ],
          "name": "stdout"
        },
        {
          "output_type": "display_data",
          "data": {
            "image/png": "[encoded data removed]",
            "text/plain": [
              "<Figure size 432x288 with 1 Axes>"
            ]
          },
          "metadata": {
            "tags": []
          }
        },
        {
          "output_type": "stream",
          "text": [
            "Y    1470\n",
            "Name: Over18, dtype: int64\n"
          ],
          "name": "stdout"
        },
        {
          "output_type": "display_data",
          "data": {
            "image/png": "[encoded data removed]",
            "text/plain": [
              "<Figure size 432x288 with 1 Axes>"
            ]
          },
          "metadata": {
            "tags": []
          }
        },
        {
          "output_type": "stream",
          "text": [
            "No     1054\n",
            "Yes     416\n",
            "Name: OverTime, dtype: int64\n"
          ],
          "name": "stdout"
        },
        {
          "output_type": "display_data",
          "data": {
            "image/png": "[encoded data removed]",
            "text/plain": [
              "<Figure size 432x288 with 1 Axes>"
            ]
          },
          "metadata": {
            "tags": []
          }
        }
      ]
    },
    {
      "cell_type": "markdown",
      "metadata": {
        "id": "VNOVldD8krCy",
        "colab_type": "text"
      },
      "source": [
        "\n",
        "1.   All employees above 18, can be dropped.\n",
        "2.   About 20% of data is positive class, need specialized sampling.\n",
        "\n"
      ]
    },
    {
      "cell_type": "code",
      "metadata": {
        "id": "13L--CRucFDo",
        "colab_type": "code",
        "colab": {}
      },
      "source": [
        "df['OverTime'] = np.where(df[\"OverTime\"].str.contains(\"Yes\"), 1,0)"
      ],
      "execution_count": 0,
      "outputs": []
    },
    {
      "cell_type": "code",
      "metadata": {
        "colab_type": "code",
        "id": "q3YySnwYb0DH",
        "colab": {}
      },
      "source": [
        "df['Gender'] = np.where(df[\"Gender\"].str.contains(\"Female\"), 1,0)"
      ],
      "execution_count": 0,
      "outputs": []
    },
    {
      "cell_type": "code",
      "metadata": {
        "id": "zeLtIfHNobU4",
        "colab_type": "code",
        "colab": {}
      },
      "source": [
        "df['Attrition'] = np.where(df[\"Attrition\"].str.contains(\"Yes\"), 1,0)"
      ],
      "execution_count": 0,
      "outputs": []
    },
    {
      "cell_type": "code",
      "metadata": {
        "id": "bTS5tu53pI-m",
        "colab_type": "code",
        "outputId": "cbcfeeb7-b319-41a4-834a-d9fc2b4ff093",
        "colab": {
          "base_uri": "https://localhost:8080/",
          "height": 637
        }
      },
      "source": [
        "sns.set(rc={'figure.figsize': (18,8)})\n",
        "sns.heatmap(df.corr(),vmin=-1.0,vmax=1.0,cmap='GnBu')"
      ],
      "execution_count": 18,
      "outputs": [
        {
          "output_type": "execute_result",
          "data": {
            "text/plain": [
              "<matplotlib.axes._subplots.AxesSubplot at 0x7f53aea85ac8>"
            ]
          },
          "metadata": {
            "tags": []
          },
          "execution_count": 18
        },
        {
          "output_type": "display_data",
          "data": {
            "image/png": "[encoded data removed]",
            "text/plain": [
              "<Figure size 1296x576 with 2 Axes>"
            ]
          },
          "metadata": {
            "tags": []
          }
        }
      ]
    },
    {
      "cell_type": "markdown",
      "metadata": {
        "id": "_o11cSwRXUnB",
        "colab_type": "text"
      },
      "source": [
        "\n",
        "*   Employee attrition does not have 'specifically high' corellation with any features.\n",
        "*   Hypothesis: New employees tend to leave the their jobs more frequently than the older ones, the threshold between the 'new' and 'old' employees seems to be an area of further analysis\n",
        "*   It must also be noted that fewer the years with the current manager, higher the chances of leaving the job. Thus attrition of managers could lead to chain attrition.\n",
        "*   The distance from an employee's home also seems to a be a good predictor of attrition\n",
        "*   Some independent variables are highly correlated with each other.\n",
        "*   Monthly income and job level have perfect corellation\n",
        "\n"
      ]
    },
    {
      "cell_type": "code",
      "metadata": {
        "id": "c32js3EzpMaM",
        "colab_type": "code",
        "colab": {}
      },
      "source": [
        "cat_columns = [\"BusinessTravel\", \"Department\",\"JobRole\",\"MaritalStatus\"]\n",
        "df_processed = pd.get_dummies(df, prefix_sep=\"__\",columns=cat_columns)"
      ],
      "execution_count": 0,
      "outputs": []
    },
    {
      "cell_type": "code",
      "metadata": {
        "id": "DRofi53LR4O6",
        "colab_type": "code",
        "outputId": "1852b1e6-d032-4a4e-995b-13efd9c1d42d",
        "colab": {
          "base_uri": "https://localhost:8080/",
          "height": 34
        }
      },
      "source": [
        "df_processed.shape"
      ],
      "execution_count": 65,
      "outputs": [
        {
          "output_type": "execute_result",
          "data": {
            "text/plain": [
              "(1470, 49)"
            ]
          },
          "metadata": {
            "tags": []
          },
          "execution_count": 65
        }
      ]
    },
    {
      "cell_type": "markdown",
      "metadata": {
        "id": "Wyye0D2dnG7l",
        "colab_type": "text"
      },
      "source": [
        "# Balancing data and test train split"
      ]
    },
    {
      "cell_type": "code",
      "metadata": {
        "id": "xbYO1mfCSNie",
        "colab_type": "code",
        "outputId": "82c44bbd-efa6-48fd-8f64-59ebcb00171f",
        "colab": {
          "base_uri": "https://localhost:8080/",
          "height": 50
        }
      },
      "source": [
        "# `Split into training and testing sets and using SMOTE for balancing the classes`\n",
        "X = df_processed.iloc[:, 0:].values\n",
        "colsToDrop = ['Attrition','Over18','EmployeeCount','EmployeeNumber','JobLevel','DailyRate','HourlyRate','StandardHours',\"EducationField\"]\n",
        "X = df_processed.drop(colsToDrop, axis=1)\n",
        "y = df_processed.iloc[:, 1].values\n",
        "X_train, X_test, y_train, y_test = train_test_split(X, y, test_size=0.3,stratify=y, random_state=0)\n",
        "columns = X_train.columns\n",
        "os = SMOTE(random_state=0)\n",
        "os_data_X,os_data_y=os.fit_sample(X_train, y_train)\n",
        "os_data_X = pd.DataFrame(data=os_data_X,columns=columns )\n",
        "os_data_y= pd.DataFrame(data=os_data_y,columns=['Attrition'])\n",
        "print(\"Proportion of no subscription data in oversampled data is \",len(os_data_y[os_data_y['Attrition']==0])/len(os_data_X))\n",
        "print(\"Proportion of subscription data in oversampled data is \",len(os_data_y[os_data_y['Attrition']==1])/len(os_data_X))"
      ],
      "execution_count": 66,
      "outputs": [
        {
          "output_type": "stream",
          "text": [
            "Proportion of no subscription data in oversampled data is  0.5\n",
            "Proportion of subscription data in oversampled data is  0.5\n"
          ],
          "name": "stdout"
        }
      ]
    },
    {
      "cell_type": "code",
      "metadata": {
        "id": "23TWp3lfYqLx",
        "colab_type": "code",
        "outputId": "c573270f-e748-4aed-ef90-d188a2cd7f54",
        "colab": {
          "base_uri": "https://localhost:8080/",
          "height": 438
        }
      },
      "source": [
        "os_data_X"
      ],
      "execution_count": 67,
      "outputs": [
        {
          "output_type": "execute_result",
          "data": {
            "text/html": [
              "<div>\n",
              "<style scoped>\n",
              "    .dataframe tbody tr th:only-of-type {\n",
              "        vertical-align: middle;\n",
              "    }\n",
              "\n",
              "    .dataframe tbody tr th {\n",
              "        vertical-align: top;\n",
              "    }\n",
              "\n",
              "    .dataframe thead th {\n",
              "        text-align: right;\n",
              "    }\n",
              "</style>\n",
              "<table border=\"1\" class=\"dataframe\">\n",
              "  <thead>\n",
              "    <tr style=\"text-align: right;\">\n",
              "      <th></th>\n",
              "      <th>Age</th>\n",
              "      <th>DistanceFromHome</th>\n",
              "      <th>Education</th>\n",
              "      <th>EnvironmentSatisfaction</th>\n",
              "      <th>Gender</th>\n",
              "      <th>JobInvolvement</th>\n",
              "      <th>JobSatisfaction</th>\n",
              "      <th>MonthlyIncome</th>\n",
              "      <th>MonthlyRate</th>\n",
              "      <th>NumCompaniesWorked</th>\n",
              "      <th>OverTime</th>\n",
              "      <th>PercentSalaryHike</th>\n",
              "      <th>PerformanceRating</th>\n",
              "      <th>RelationshipSatisfaction</th>\n",
              "      <th>StockOptionLevel</th>\n",
              "      <th>TotalWorkingYears</th>\n",
              "      <th>TrainingTimesLastYear</th>\n",
              "      <th>WorkLifeBalance</th>\n",
              "      <th>YearsAtCompany</th>\n",
              "      <th>YearsInCurrentRole</th>\n",
              "      <th>YearsSinceLastPromotion</th>\n",
              "      <th>YearsWithCurrManager</th>\n",
              "      <th>BusinessTravel__Non-Travel</th>\n",
              "      <th>BusinessTravel__Travel_Frequently</th>\n",
              "      <th>BusinessTravel__Travel_Rarely</th>\n",
              "      <th>Department__Human Resources</th>\n",
              "      <th>Department__Research &amp; Development</th>\n",
              "      <th>Department__Sales</th>\n",
              "      <th>JobRole__Healthcare Representative</th>\n",
              "      <th>JobRole__Human Resources</th>\n",
              "      <th>JobRole__Laboratory Technician</th>\n",
              "      <th>JobRole__Manager</th>\n",
              "      <th>JobRole__Manufacturing Director</th>\n",
              "      <th>JobRole__Research Director</th>\n",
              "      <th>JobRole__Research Scientist</th>\n",
              "      <th>JobRole__Sales Executive</th>\n",
              "      <th>JobRole__Sales Representative</th>\n",
              "      <th>MaritalStatus__Divorced</th>\n",
              "      <th>MaritalStatus__Married</th>\n",
              "      <th>MaritalStatus__Single</th>\n",
              "    </tr>\n",
              "  </thead>\n",
              "  <tbody>\n",
              "    <tr>\n",
              "      <th>0</th>\n",
              "      <td>44</td>\n",
              "      <td>28</td>\n",
              "      <td>3</td>\n",
              "      <td>4</td>\n",
              "      <td>0</td>\n",
              "      <td>3</td>\n",
              "      <td>1</td>\n",
              "      <td>16328</td>\n",
              "      <td>22074</td>\n",
              "      <td>3</td>\n",
              "      <td>0</td>\n",
              "      <td>13</td>\n",
              "      <td>3</td>\n",
              "      <td>3</td>\n",
              "      <td>1</td>\n",
              "      <td>24</td>\n",
              "      <td>1</td>\n",
              "      <td>4</td>\n",
              "      <td>20</td>\n",
              "      <td>6</td>\n",
              "      <td>14</td>\n",
              "      <td>17</td>\n",
              "      <td>0</td>\n",
              "      <td>0</td>\n",
              "      <td>1</td>\n",
              "      <td>0</td>\n",
              "      <td>1</td>\n",
              "      <td>0</td>\n",
              "      <td>0</td>\n",
              "      <td>0</td>\n",
              "      <td>0</td>\n",
              "      <td>0</td>\n",
              "      <td>0</td>\n",
              "      <td>1</td>\n",
              "      <td>0</td>\n",
              "      <td>0</td>\n",
              "      <td>0</td>\n",
              "      <td>0</td>\n",
              "      <td>1</td>\n",
              "      <td>0</td>\n",
              "    </tr>\n",
              "    <tr>\n",
              "      <th>1</th>\n",
              "      <td>40</td>\n",
              "      <td>2</td>\n",
              "      <td>4</td>\n",
              "      <td>2</td>\n",
              "      <td>0</td>\n",
              "      <td>3</td>\n",
              "      <td>2</td>\n",
              "      <td>4327</td>\n",
              "      <td>25440</td>\n",
              "      <td>5</td>\n",
              "      <td>0</td>\n",
              "      <td>12</td>\n",
              "      <td>3</td>\n",
              "      <td>4</td>\n",
              "      <td>3</td>\n",
              "      <td>5</td>\n",
              "      <td>2</td>\n",
              "      <td>3</td>\n",
              "      <td>0</td>\n",
              "      <td>0</td>\n",
              "      <td>0</td>\n",
              "      <td>0</td>\n",
              "      <td>0</td>\n",
              "      <td>1</td>\n",
              "      <td>0</td>\n",
              "      <td>0</td>\n",
              "      <td>0</td>\n",
              "      <td>1</td>\n",
              "      <td>0</td>\n",
              "      <td>0</td>\n",
              "      <td>0</td>\n",
              "      <td>0</td>\n",
              "      <td>0</td>\n",
              "      <td>0</td>\n",
              "      <td>0</td>\n",
              "      <td>1</td>\n",
              "      <td>0</td>\n",
              "      <td>0</td>\n",
              "      <td>1</td>\n",
              "      <td>0</td>\n",
              "    </tr>\n",
              "    <tr>\n",
              "      <th>2</th>\n",
              "      <td>34</td>\n",
              "      <td>1</td>\n",
              "      <td>2</td>\n",
              "      <td>1</td>\n",
              "      <td>0</td>\n",
              "      <td>3</td>\n",
              "      <td>2</td>\n",
              "      <td>4325</td>\n",
              "      <td>17736</td>\n",
              "      <td>1</td>\n",
              "      <td>0</td>\n",
              "      <td>15</td>\n",
              "      <td>3</td>\n",
              "      <td>3</td>\n",
              "      <td>0</td>\n",
              "      <td>5</td>\n",
              "      <td>2</td>\n",
              "      <td>3</td>\n",
              "      <td>5</td>\n",
              "      <td>2</td>\n",
              "      <td>1</td>\n",
              "      <td>3</td>\n",
              "      <td>0</td>\n",
              "      <td>0</td>\n",
              "      <td>1</td>\n",
              "      <td>0</td>\n",
              "      <td>1</td>\n",
              "      <td>0</td>\n",
              "      <td>0</td>\n",
              "      <td>0</td>\n",
              "      <td>0</td>\n",
              "      <td>0</td>\n",
              "      <td>1</td>\n",
              "      <td>0</td>\n",
              "      <td>0</td>\n",
              "      <td>0</td>\n",
              "      <td>0</td>\n",
              "      <td>0</td>\n",
              "      <td>1</td>\n",
              "      <td>0</td>\n",
              "    </tr>\n",
              "    <tr>\n",
              "      <th>3</th>\n",
              "      <td>40</td>\n",
              "      <td>28</td>\n",
              "      <td>3</td>\n",
              "      <td>3</td>\n",
              "      <td>0</td>\n",
              "      <td>1</td>\n",
              "      <td>1</td>\n",
              "      <td>10932</td>\n",
              "      <td>11373</td>\n",
              "      <td>3</td>\n",
              "      <td>0</td>\n",
              "      <td>15</td>\n",
              "      <td>3</td>\n",
              "      <td>3</td>\n",
              "      <td>1</td>\n",
              "      <td>20</td>\n",
              "      <td>2</td>\n",
              "      <td>3</td>\n",
              "      <td>1</td>\n",
              "      <td>0</td>\n",
              "      <td>0</td>\n",
              "      <td>1</td>\n",
              "      <td>1</td>\n",
              "      <td>0</td>\n",
              "      <td>0</td>\n",
              "      <td>0</td>\n",
              "      <td>0</td>\n",
              "      <td>1</td>\n",
              "      <td>0</td>\n",
              "      <td>0</td>\n",
              "      <td>0</td>\n",
              "      <td>0</td>\n",
              "      <td>0</td>\n",
              "      <td>0</td>\n",
              "      <td>0</td>\n",
              "      <td>1</td>\n",
              "      <td>0</td>\n",
              "      <td>1</td>\n",
              "      <td>0</td>\n",
              "      <td>0</td>\n",
              "    </tr>\n",
              "    <tr>\n",
              "      <th>4</th>\n",
              "      <td>37</td>\n",
              "      <td>25</td>\n",
              "      <td>2</td>\n",
              "      <td>3</td>\n",
              "      <td>1</td>\n",
              "      <td>2</td>\n",
              "      <td>4</td>\n",
              "      <td>5731</td>\n",
              "      <td>17171</td>\n",
              "      <td>7</td>\n",
              "      <td>0</td>\n",
              "      <td>13</td>\n",
              "      <td>3</td>\n",
              "      <td>3</td>\n",
              "      <td>2</td>\n",
              "      <td>9</td>\n",
              "      <td>2</td>\n",
              "      <td>3</td>\n",
              "      <td>6</td>\n",
              "      <td>2</td>\n",
              "      <td>1</td>\n",
              "      <td>3</td>\n",
              "      <td>0</td>\n",
              "      <td>0</td>\n",
              "      <td>1</td>\n",
              "      <td>0</td>\n",
              "      <td>1</td>\n",
              "      <td>0</td>\n",
              "      <td>1</td>\n",
              "      <td>0</td>\n",
              "      <td>0</td>\n",
              "      <td>0</td>\n",
              "      <td>0</td>\n",
              "      <td>0</td>\n",
              "      <td>0</td>\n",
              "      <td>0</td>\n",
              "      <td>0</td>\n",
              "      <td>1</td>\n",
              "      <td>0</td>\n",
              "      <td>0</td>\n",
              "    </tr>\n",
              "    <tr>\n",
              "      <th>...</th>\n",
              "      <td>...</td>\n",
              "      <td>...</td>\n",
              "      <td>...</td>\n",
              "      <td>...</td>\n",
              "      <td>...</td>\n",
              "      <td>...</td>\n",
              "      <td>...</td>\n",
              "      <td>...</td>\n",
              "      <td>...</td>\n",
              "      <td>...</td>\n",
              "      <td>...</td>\n",
              "      <td>...</td>\n",
              "      <td>...</td>\n",
              "      <td>...</td>\n",
              "      <td>...</td>\n",
              "      <td>...</td>\n",
              "      <td>...</td>\n",
              "      <td>...</td>\n",
              "      <td>...</td>\n",
              "      <td>...</td>\n",
              "      <td>...</td>\n",
              "      <td>...</td>\n",
              "      <td>...</td>\n",
              "      <td>...</td>\n",
              "      <td>...</td>\n",
              "      <td>...</td>\n",
              "      <td>...</td>\n",
              "      <td>...</td>\n",
              "      <td>...</td>\n",
              "      <td>...</td>\n",
              "      <td>...</td>\n",
              "      <td>...</td>\n",
              "      <td>...</td>\n",
              "      <td>...</td>\n",
              "      <td>...</td>\n",
              "      <td>...</td>\n",
              "      <td>...</td>\n",
              "      <td>...</td>\n",
              "      <td>...</td>\n",
              "      <td>...</td>\n",
              "    </tr>\n",
              "    <tr>\n",
              "      <th>1721</th>\n",
              "      <td>35</td>\n",
              "      <td>9</td>\n",
              "      <td>3</td>\n",
              "      <td>2</td>\n",
              "      <td>0</td>\n",
              "      <td>1</td>\n",
              "      <td>1</td>\n",
              "      <td>3407</td>\n",
              "      <td>6930</td>\n",
              "      <td>7</td>\n",
              "      <td>0</td>\n",
              "      <td>21</td>\n",
              "      <td>3</td>\n",
              "      <td>1</td>\n",
              "      <td>0</td>\n",
              "      <td>9</td>\n",
              "      <td>3</td>\n",
              "      <td>3</td>\n",
              "      <td>4</td>\n",
              "      <td>3</td>\n",
              "      <td>0</td>\n",
              "      <td>3</td>\n",
              "      <td>0</td>\n",
              "      <td>0</td>\n",
              "      <td>1</td>\n",
              "      <td>0</td>\n",
              "      <td>0</td>\n",
              "      <td>0</td>\n",
              "      <td>0</td>\n",
              "      <td>0</td>\n",
              "      <td>0</td>\n",
              "      <td>0</td>\n",
              "      <td>0</td>\n",
              "      <td>0</td>\n",
              "      <td>0</td>\n",
              "      <td>0</td>\n",
              "      <td>0</td>\n",
              "      <td>0</td>\n",
              "      <td>0</td>\n",
              "      <td>0</td>\n",
              "    </tr>\n",
              "    <tr>\n",
              "      <th>1722</th>\n",
              "      <td>29</td>\n",
              "      <td>17</td>\n",
              "      <td>1</td>\n",
              "      <td>2</td>\n",
              "      <td>0</td>\n",
              "      <td>2</td>\n",
              "      <td>3</td>\n",
              "      <td>2373</td>\n",
              "      <td>14939</td>\n",
              "      <td>1</td>\n",
              "      <td>0</td>\n",
              "      <td>13</td>\n",
              "      <td>3</td>\n",
              "      <td>3</td>\n",
              "      <td>0</td>\n",
              "      <td>3</td>\n",
              "      <td>2</td>\n",
              "      <td>2</td>\n",
              "      <td>3</td>\n",
              "      <td>2</td>\n",
              "      <td>0</td>\n",
              "      <td>0</td>\n",
              "      <td>0</td>\n",
              "      <td>0</td>\n",
              "      <td>0</td>\n",
              "      <td>0</td>\n",
              "      <td>0</td>\n",
              "      <td>0</td>\n",
              "      <td>0</td>\n",
              "      <td>0</td>\n",
              "      <td>0</td>\n",
              "      <td>0</td>\n",
              "      <td>0</td>\n",
              "      <td>0</td>\n",
              "      <td>0</td>\n",
              "      <td>0</td>\n",
              "      <td>0</td>\n",
              "      <td>0</td>\n",
              "      <td>0</td>\n",
              "      <td>0</td>\n",
              "    </tr>\n",
              "    <tr>\n",
              "      <th>1723</th>\n",
              "      <td>42</td>\n",
              "      <td>5</td>\n",
              "      <td>2</td>\n",
              "      <td>3</td>\n",
              "      <td>0</td>\n",
              "      <td>2</td>\n",
              "      <td>1</td>\n",
              "      <td>2496</td>\n",
              "      <td>4140</td>\n",
              "      <td>5</td>\n",
              "      <td>1</td>\n",
              "      <td>18</td>\n",
              "      <td>3</td>\n",
              "      <td>3</td>\n",
              "      <td>0</td>\n",
              "      <td>6</td>\n",
              "      <td>2</td>\n",
              "      <td>1</td>\n",
              "      <td>2</td>\n",
              "      <td>2</td>\n",
              "      <td>1</td>\n",
              "      <td>2</td>\n",
              "      <td>0</td>\n",
              "      <td>0</td>\n",
              "      <td>1</td>\n",
              "      <td>0</td>\n",
              "      <td>0</td>\n",
              "      <td>0</td>\n",
              "      <td>0</td>\n",
              "      <td>0</td>\n",
              "      <td>0</td>\n",
              "      <td>0</td>\n",
              "      <td>0</td>\n",
              "      <td>0</td>\n",
              "      <td>0</td>\n",
              "      <td>0</td>\n",
              "      <td>0</td>\n",
              "      <td>0</td>\n",
              "      <td>1</td>\n",
              "      <td>0</td>\n",
              "    </tr>\n",
              "    <tr>\n",
              "      <th>1724</th>\n",
              "      <td>30</td>\n",
              "      <td>9</td>\n",
              "      <td>1</td>\n",
              "      <td>1</td>\n",
              "      <td>0</td>\n",
              "      <td>3</td>\n",
              "      <td>3</td>\n",
              "      <td>2416</td>\n",
              "      <td>15188</td>\n",
              "      <td>2</td>\n",
              "      <td>1</td>\n",
              "      <td>13</td>\n",
              "      <td>3</td>\n",
              "      <td>1</td>\n",
              "      <td>0</td>\n",
              "      <td>6</td>\n",
              "      <td>2</td>\n",
              "      <td>2</td>\n",
              "      <td>4</td>\n",
              "      <td>1</td>\n",
              "      <td>0</td>\n",
              "      <td>2</td>\n",
              "      <td>0</td>\n",
              "      <td>0</td>\n",
              "      <td>0</td>\n",
              "      <td>0</td>\n",
              "      <td>1</td>\n",
              "      <td>0</td>\n",
              "      <td>0</td>\n",
              "      <td>0</td>\n",
              "      <td>0</td>\n",
              "      <td>0</td>\n",
              "      <td>0</td>\n",
              "      <td>0</td>\n",
              "      <td>1</td>\n",
              "      <td>0</td>\n",
              "      <td>0</td>\n",
              "      <td>0</td>\n",
              "      <td>0</td>\n",
              "      <td>1</td>\n",
              "    </tr>\n",
              "    <tr>\n",
              "      <th>1725</th>\n",
              "      <td>30</td>\n",
              "      <td>3</td>\n",
              "      <td>2</td>\n",
              "      <td>1</td>\n",
              "      <td>0</td>\n",
              "      <td>3</td>\n",
              "      <td>3</td>\n",
              "      <td>2565</td>\n",
              "      <td>15438</td>\n",
              "      <td>3</td>\n",
              "      <td>0</td>\n",
              "      <td>14</td>\n",
              "      <td>3</td>\n",
              "      <td>1</td>\n",
              "      <td>0</td>\n",
              "      <td>7</td>\n",
              "      <td>2</td>\n",
              "      <td>3</td>\n",
              "      <td>3</td>\n",
              "      <td>1</td>\n",
              "      <td>0</td>\n",
              "      <td>2</td>\n",
              "      <td>0</td>\n",
              "      <td>1</td>\n",
              "      <td>0</td>\n",
              "      <td>0</td>\n",
              "      <td>0</td>\n",
              "      <td>0</td>\n",
              "      <td>0</td>\n",
              "      <td>0</td>\n",
              "      <td>0</td>\n",
              "      <td>0</td>\n",
              "      <td>0</td>\n",
              "      <td>0</td>\n",
              "      <td>0</td>\n",
              "      <td>0</td>\n",
              "      <td>0</td>\n",
              "      <td>0</td>\n",
              "      <td>0</td>\n",
              "      <td>0</td>\n",
              "    </tr>\n",
              "  </tbody>\n",
              "</table>\n",
              "<p>1726 rows × 40 columns</p>\n",
              "</div>"
            ],
            "text/plain": [
              "      Age  DistanceFromHome  ...  MaritalStatus__Married  MaritalStatus__Single\n",
              "0      44                28  ...                       1                      0\n",
              "1      40                 2  ...                       1                      0\n",
              "2      34                 1  ...                       1                      0\n",
              "3      40                28  ...                       0                      0\n",
              "4      37                25  ...                       0                      0\n",
              "...   ...               ...  ...                     ...                    ...\n",
              "1721   35                 9  ...                       0                      0\n",
              "1722   29                17  ...                       0                      0\n",
              "1723   42                 5  ...                       1                      0\n",
              "1724   30                 9  ...                       0                      1\n",
              "1725   30                 3  ...                       0                      0\n",
              "\n",
              "[1726 rows x 40 columns]"
            ]
          },
          "metadata": {
            "tags": []
          },
          "execution_count": 67
        }
      ]
    },
    {
      "cell_type": "code",
      "metadata": {
        "id": "Xv3to5IDX1cH",
        "colab_type": "code",
        "colab": {}
      },
      "source": [
        "#standardize the features\n",
        "sc = StandardScaler()\n",
        "X_train_std = sc.fit_transform(os_data_X)\n",
        "X_test_std = sc.transform(X_test)\n",
        "X_train_std=pd.DataFrame(X_train_std,columns=columns)\n",
        "X_test_std=pd.DataFrame(X_test_std,columns=columns)"
      ],
      "execution_count": 0,
      "outputs": []
    },
    {
      "cell_type": "code",
      "metadata": {
        "id": "lxG4lGBncoTx",
        "colab_type": "code",
        "outputId": "6278e916-c6e3-46d7-a216-f3764eaf9c55",
        "colab": {
          "base_uri": "https://localhost:8080/",
          "height": 438
        }
      },
      "source": [
        "X_train_std"
      ],
      "execution_count": 69,
      "outputs": [
        {
          "output_type": "execute_result",
          "data": {
            "text/html": [
              "<div>\n",
              "<style scoped>\n",
              "    .dataframe tbody tr th:only-of-type {\n",
              "        vertical-align: middle;\n",
              "    }\n",
              "\n",
              "    .dataframe tbody tr th {\n",
              "        vertical-align: top;\n",
              "    }\n",
              "\n",
              "    .dataframe thead th {\n",
              "        text-align: right;\n",
              "    }\n",
              "</style>\n",
              "<table border=\"1\" class=\"dataframe\">\n",
              "  <thead>\n",
              "    <tr style=\"text-align: right;\">\n",
              "      <th></th>\n",
              "      <th>Age</th>\n",
              "      <th>DistanceFromHome</th>\n",
              "      <th>Education</th>\n",
              "      <th>EnvironmentSatisfaction</th>\n",
              "      <th>Gender</th>\n",
              "      <th>JobInvolvement</th>\n",
              "      <th>JobSatisfaction</th>\n",
              "      <th>MonthlyIncome</th>\n",
              "      <th>MonthlyRate</th>\n",
              "      <th>NumCompaniesWorked</th>\n",
              "      <th>OverTime</th>\n",
              "      <th>PercentSalaryHike</th>\n",
              "      <th>PerformanceRating</th>\n",
              "      <th>RelationshipSatisfaction</th>\n",
              "      <th>StockOptionLevel</th>\n",
              "      <th>TotalWorkingYears</th>\n",
              "      <th>TrainingTimesLastYear</th>\n",
              "      <th>WorkLifeBalance</th>\n",
              "      <th>YearsAtCompany</th>\n",
              "      <th>YearsInCurrentRole</th>\n",
              "      <th>YearsSinceLastPromotion</th>\n",
              "      <th>YearsWithCurrManager</th>\n",
              "      <th>BusinessTravel__Non-Travel</th>\n",
              "      <th>BusinessTravel__Travel_Frequently</th>\n",
              "      <th>BusinessTravel__Travel_Rarely</th>\n",
              "      <th>Department__Human Resources</th>\n",
              "      <th>Department__Research &amp; Development</th>\n",
              "      <th>Department__Sales</th>\n",
              "      <th>JobRole__Healthcare Representative</th>\n",
              "      <th>JobRole__Human Resources</th>\n",
              "      <th>JobRole__Laboratory Technician</th>\n",
              "      <th>JobRole__Manager</th>\n",
              "      <th>JobRole__Manufacturing Director</th>\n",
              "      <th>JobRole__Research Director</th>\n",
              "      <th>JobRole__Research Scientist</th>\n",
              "      <th>JobRole__Sales Executive</th>\n",
              "      <th>JobRole__Sales Representative</th>\n",
              "      <th>MaritalStatus__Divorced</th>\n",
              "      <th>MaritalStatus__Married</th>\n",
              "      <th>MaritalStatus__Single</th>\n",
              "    </tr>\n",
              "  </thead>\n",
              "  <tbody>\n",
              "    <tr>\n",
              "      <th>0</th>\n",
              "      <td>0.932747</td>\n",
              "      <td>2.416631</td>\n",
              "      <td>0.262325</td>\n",
              "      <td>1.407810</td>\n",
              "      <td>-0.66569</td>\n",
              "      <td>0.627535</td>\n",
              "      <td>-1.344766</td>\n",
              "      <td>2.389399</td>\n",
              "      <td>1.059715</td>\n",
              "      <td>0.148522</td>\n",
              "      <td>-0.618880</td>\n",
              "      <td>-0.562016</td>\n",
              "      <td>-0.328376</td>\n",
              "      <td>0.440388</td>\n",
              "      <td>0.507062</td>\n",
              "      <td>1.828063</td>\n",
              "      <td>-1.387798</td>\n",
              "      <td>1.904721</td>\n",
              "      <td>2.264085</td>\n",
              "      <td>0.740669</td>\n",
              "      <td>3.903914</td>\n",
              "      <td>3.991806</td>\n",
              "      <td>-0.249307</td>\n",
              "      <td>-0.423990</td>\n",
              "      <td>0.854084</td>\n",
              "      <td>-0.165472</td>\n",
              "      <td>0.995376</td>\n",
              "      <td>-0.561737</td>\n",
              "      <td>-0.238643</td>\n",
              "      <td>-0.150039</td>\n",
              "      <td>-0.397004</td>\n",
              "      <td>-0.211646</td>\n",
              "      <td>-0.245350</td>\n",
              "      <td>5.269409</td>\n",
              "      <td>-0.392101</td>\n",
              "      <td>-0.462367</td>\n",
              "      <td>-0.217555</td>\n",
              "      <td>-0.402852</td>\n",
              "      <td>1.460304</td>\n",
              "      <td>-0.639515</td>\n",
              "    </tr>\n",
              "    <tr>\n",
              "      <th>1</th>\n",
              "      <td>0.498250</td>\n",
              "      <td>-0.984615</td>\n",
              "      <td>1.277509</td>\n",
              "      <td>-0.444233</td>\n",
              "      <td>-0.66569</td>\n",
              "      <td>0.627535</td>\n",
              "      <td>-0.418932</td>\n",
              "      <td>-0.329953</td>\n",
              "      <td>1.537947</td>\n",
              "      <td>1.003017</td>\n",
              "      <td>-0.618880</td>\n",
              "      <td>-0.866965</td>\n",
              "      <td>-0.328376</td>\n",
              "      <td>1.402553</td>\n",
              "      <td>3.000477</td>\n",
              "      <td>-0.652674</td>\n",
              "      <td>-0.517715</td>\n",
              "      <td>0.543981</td>\n",
              "      <td>-1.008103</td>\n",
              "      <td>-1.021824</td>\n",
              "      <td>-0.635093</td>\n",
              "      <td>-1.033834</td>\n",
              "      <td>-0.249307</td>\n",
              "      <td>2.358546</td>\n",
              "      <td>-1.170845</td>\n",
              "      <td>-0.165472</td>\n",
              "      <td>-1.004646</td>\n",
              "      <td>1.780192</td>\n",
              "      <td>-0.238643</td>\n",
              "      <td>-0.150039</td>\n",
              "      <td>-0.397004</td>\n",
              "      <td>-0.211646</td>\n",
              "      <td>-0.245350</td>\n",
              "      <td>-0.189775</td>\n",
              "      <td>-0.392101</td>\n",
              "      <td>2.162783</td>\n",
              "      <td>-0.217555</td>\n",
              "      <td>-0.402852</td>\n",
              "      <td>1.460304</td>\n",
              "      <td>-0.639515</td>\n",
              "    </tr>\n",
              "    <tr>\n",
              "      <th>2</th>\n",
              "      <td>-0.153496</td>\n",
              "      <td>-1.115432</td>\n",
              "      <td>-0.752860</td>\n",
              "      <td>-1.370254</td>\n",
              "      <td>-0.66569</td>\n",
              "      <td>0.627535</td>\n",
              "      <td>-0.418932</td>\n",
              "      <td>-0.330406</td>\n",
              "      <td>0.443384</td>\n",
              "      <td>-0.705974</td>\n",
              "      <td>-0.618880</td>\n",
              "      <td>0.047880</td>\n",
              "      <td>-0.328376</td>\n",
              "      <td>0.440388</td>\n",
              "      <td>-0.739646</td>\n",
              "      <td>-0.652674</td>\n",
              "      <td>-0.517715</td>\n",
              "      <td>0.543981</td>\n",
              "      <td>-0.190056</td>\n",
              "      <td>-0.434326</td>\n",
              "      <td>-0.310878</td>\n",
              "      <td>-0.146957</td>\n",
              "      <td>-0.249307</td>\n",
              "      <td>-0.423990</td>\n",
              "      <td>0.854084</td>\n",
              "      <td>-0.165472</td>\n",
              "      <td>0.995376</td>\n",
              "      <td>-0.561737</td>\n",
              "      <td>-0.238643</td>\n",
              "      <td>-0.150039</td>\n",
              "      <td>-0.397004</td>\n",
              "      <td>-0.211646</td>\n",
              "      <td>4.075812</td>\n",
              "      <td>-0.189775</td>\n",
              "      <td>-0.392101</td>\n",
              "      <td>-0.462367</td>\n",
              "      <td>-0.217555</td>\n",
              "      <td>-0.402852</td>\n",
              "      <td>1.460304</td>\n",
              "      <td>-0.639515</td>\n",
              "    </tr>\n",
              "    <tr>\n",
              "      <th>3</th>\n",
              "      <td>0.498250</td>\n",
              "      <td>2.416631</td>\n",
              "      <td>0.262325</td>\n",
              "      <td>0.481789</td>\n",
              "      <td>-0.66569</td>\n",
              "      <td>-2.142606</td>\n",
              "      <td>-1.344766</td>\n",
              "      <td>1.166699</td>\n",
              "      <td>-0.460654</td>\n",
              "      <td>0.148522</td>\n",
              "      <td>-0.618880</td>\n",
              "      <td>0.047880</td>\n",
              "      <td>-0.328376</td>\n",
              "      <td>0.440388</td>\n",
              "      <td>0.507062</td>\n",
              "      <td>1.305802</td>\n",
              "      <td>-0.517715</td>\n",
              "      <td>0.543981</td>\n",
              "      <td>-0.844494</td>\n",
              "      <td>-1.021824</td>\n",
              "      <td>-0.635093</td>\n",
              "      <td>-0.738208</td>\n",
              "      <td>4.011123</td>\n",
              "      <td>-0.423990</td>\n",
              "      <td>-1.170845</td>\n",
              "      <td>-0.165472</td>\n",
              "      <td>-1.004646</td>\n",
              "      <td>1.780192</td>\n",
              "      <td>-0.238643</td>\n",
              "      <td>-0.150039</td>\n",
              "      <td>-0.397004</td>\n",
              "      <td>-0.211646</td>\n",
              "      <td>-0.245350</td>\n",
              "      <td>-0.189775</td>\n",
              "      <td>-0.392101</td>\n",
              "      <td>2.162783</td>\n",
              "      <td>-0.217555</td>\n",
              "      <td>2.482303</td>\n",
              "      <td>-0.684789</td>\n",
              "      <td>-0.639515</td>\n",
              "    </tr>\n",
              "    <tr>\n",
              "      <th>4</th>\n",
              "      <td>0.172377</td>\n",
              "      <td>2.024179</td>\n",
              "      <td>-0.752860</td>\n",
              "      <td>0.481789</td>\n",
              "      <td>1.50220</td>\n",
              "      <td>-0.757536</td>\n",
              "      <td>1.432737</td>\n",
              "      <td>-0.011815</td>\n",
              "      <td>0.363110</td>\n",
              "      <td>1.857513</td>\n",
              "      <td>-0.618880</td>\n",
              "      <td>-0.562016</td>\n",
              "      <td>-0.328376</td>\n",
              "      <td>0.440388</td>\n",
              "      <td>1.753770</td>\n",
              "      <td>-0.130414</td>\n",
              "      <td>-0.517715</td>\n",
              "      <td>0.543981</td>\n",
              "      <td>-0.026447</td>\n",
              "      <td>-0.434326</td>\n",
              "      <td>-0.310878</td>\n",
              "      <td>-0.146957</td>\n",
              "      <td>-0.249307</td>\n",
              "      <td>-0.423990</td>\n",
              "      <td>0.854084</td>\n",
              "      <td>-0.165472</td>\n",
              "      <td>0.995376</td>\n",
              "      <td>-0.561737</td>\n",
              "      <td>4.190363</td>\n",
              "      <td>-0.150039</td>\n",
              "      <td>-0.397004</td>\n",
              "      <td>-0.211646</td>\n",
              "      <td>-0.245350</td>\n",
              "      <td>-0.189775</td>\n",
              "      <td>-0.392101</td>\n",
              "      <td>-0.462367</td>\n",
              "      <td>-0.217555</td>\n",
              "      <td>2.482303</td>\n",
              "      <td>-0.684789</td>\n",
              "      <td>-0.639515</td>\n",
              "    </tr>\n",
              "    <tr>\n",
              "      <th>...</th>\n",
              "      <td>...</td>\n",
              "      <td>...</td>\n",
              "      <td>...</td>\n",
              "      <td>...</td>\n",
              "      <td>...</td>\n",
              "      <td>...</td>\n",
              "      <td>...</td>\n",
              "      <td>...</td>\n",
              "      <td>...</td>\n",
              "      <td>...</td>\n",
              "      <td>...</td>\n",
              "      <td>...</td>\n",
              "      <td>...</td>\n",
              "      <td>...</td>\n",
              "      <td>...</td>\n",
              "      <td>...</td>\n",
              "      <td>...</td>\n",
              "      <td>...</td>\n",
              "      <td>...</td>\n",
              "      <td>...</td>\n",
              "      <td>...</td>\n",
              "      <td>...</td>\n",
              "      <td>...</td>\n",
              "      <td>...</td>\n",
              "      <td>...</td>\n",
              "      <td>...</td>\n",
              "      <td>...</td>\n",
              "      <td>...</td>\n",
              "      <td>...</td>\n",
              "      <td>...</td>\n",
              "      <td>...</td>\n",
              "      <td>...</td>\n",
              "      <td>...</td>\n",
              "      <td>...</td>\n",
              "      <td>...</td>\n",
              "      <td>...</td>\n",
              "      <td>...</td>\n",
              "      <td>...</td>\n",
              "      <td>...</td>\n",
              "      <td>...</td>\n",
              "    </tr>\n",
              "    <tr>\n",
              "      <th>1721</th>\n",
              "      <td>-0.044872</td>\n",
              "      <td>-0.068895</td>\n",
              "      <td>0.262325</td>\n",
              "      <td>-0.444233</td>\n",
              "      <td>-0.66569</td>\n",
              "      <td>-2.142606</td>\n",
              "      <td>-1.344766</td>\n",
              "      <td>-0.538419</td>\n",
              "      <td>-1.091903</td>\n",
              "      <td>1.857513</td>\n",
              "      <td>-0.618880</td>\n",
              "      <td>1.877570</td>\n",
              "      <td>-0.328376</td>\n",
              "      <td>-1.483941</td>\n",
              "      <td>-0.739646</td>\n",
              "      <td>-0.130414</td>\n",
              "      <td>0.352369</td>\n",
              "      <td>0.543981</td>\n",
              "      <td>-0.353665</td>\n",
              "      <td>-0.140577</td>\n",
              "      <td>-0.635093</td>\n",
              "      <td>-0.146957</td>\n",
              "      <td>-0.249307</td>\n",
              "      <td>-0.423990</td>\n",
              "      <td>0.854084</td>\n",
              "      <td>-0.165472</td>\n",
              "      <td>-1.004646</td>\n",
              "      <td>-0.561737</td>\n",
              "      <td>-0.238643</td>\n",
              "      <td>-0.150039</td>\n",
              "      <td>-0.397004</td>\n",
              "      <td>-0.211646</td>\n",
              "      <td>-0.245350</td>\n",
              "      <td>-0.189775</td>\n",
              "      <td>-0.392101</td>\n",
              "      <td>-0.462367</td>\n",
              "      <td>-0.217555</td>\n",
              "      <td>-0.402852</td>\n",
              "      <td>-0.684789</td>\n",
              "      <td>-0.639515</td>\n",
              "    </tr>\n",
              "    <tr>\n",
              "      <th>1722</th>\n",
              "      <td>-0.696618</td>\n",
              "      <td>0.977642</td>\n",
              "      <td>-1.768044</td>\n",
              "      <td>-0.444233</td>\n",
              "      <td>-0.66569</td>\n",
              "      <td>-0.757536</td>\n",
              "      <td>0.506902</td>\n",
              "      <td>-0.772717</td>\n",
              "      <td>0.045994</td>\n",
              "      <td>-0.705974</td>\n",
              "      <td>-0.618880</td>\n",
              "      <td>-0.562016</td>\n",
              "      <td>-0.328376</td>\n",
              "      <td>0.440388</td>\n",
              "      <td>-0.739646</td>\n",
              "      <td>-0.913805</td>\n",
              "      <td>-0.517715</td>\n",
              "      <td>-0.816759</td>\n",
              "      <td>-0.517275</td>\n",
              "      <td>-0.434326</td>\n",
              "      <td>-0.635093</td>\n",
              "      <td>-1.033834</td>\n",
              "      <td>-0.249307</td>\n",
              "      <td>-0.423990</td>\n",
              "      <td>-1.170845</td>\n",
              "      <td>-0.165472</td>\n",
              "      <td>-1.004646</td>\n",
              "      <td>-0.561737</td>\n",
              "      <td>-0.238643</td>\n",
              "      <td>-0.150039</td>\n",
              "      <td>-0.397004</td>\n",
              "      <td>-0.211646</td>\n",
              "      <td>-0.245350</td>\n",
              "      <td>-0.189775</td>\n",
              "      <td>-0.392101</td>\n",
              "      <td>-0.462367</td>\n",
              "      <td>-0.217555</td>\n",
              "      <td>-0.402852</td>\n",
              "      <td>-0.684789</td>\n",
              "      <td>-0.639515</td>\n",
              "    </tr>\n",
              "    <tr>\n",
              "      <th>1723</th>\n",
              "      <td>0.715498</td>\n",
              "      <td>-0.592164</td>\n",
              "      <td>-0.752860</td>\n",
              "      <td>0.481789</td>\n",
              "      <td>-0.66569</td>\n",
              "      <td>-0.757536</td>\n",
              "      <td>-1.344766</td>\n",
              "      <td>-0.744846</td>\n",
              "      <td>-1.488299</td>\n",
              "      <td>1.003017</td>\n",
              "      <td>1.615821</td>\n",
              "      <td>0.962725</td>\n",
              "      <td>-0.328376</td>\n",
              "      <td>0.440388</td>\n",
              "      <td>-0.739646</td>\n",
              "      <td>-0.522109</td>\n",
              "      <td>-0.517715</td>\n",
              "      <td>-2.177500</td>\n",
              "      <td>-0.680884</td>\n",
              "      <td>-0.434326</td>\n",
              "      <td>-0.310878</td>\n",
              "      <td>-0.442582</td>\n",
              "      <td>-0.249307</td>\n",
              "      <td>-0.423990</td>\n",
              "      <td>0.854084</td>\n",
              "      <td>-0.165472</td>\n",
              "      <td>-1.004646</td>\n",
              "      <td>-0.561737</td>\n",
              "      <td>-0.238643</td>\n",
              "      <td>-0.150039</td>\n",
              "      <td>-0.397004</td>\n",
              "      <td>-0.211646</td>\n",
              "      <td>-0.245350</td>\n",
              "      <td>-0.189775</td>\n",
              "      <td>-0.392101</td>\n",
              "      <td>-0.462367</td>\n",
              "      <td>-0.217555</td>\n",
              "      <td>-0.402852</td>\n",
              "      <td>1.460304</td>\n",
              "      <td>-0.639515</td>\n",
              "    </tr>\n",
              "    <tr>\n",
              "      <th>1724</th>\n",
              "      <td>-0.587994</td>\n",
              "      <td>-0.068895</td>\n",
              "      <td>-1.768044</td>\n",
              "      <td>-1.370254</td>\n",
              "      <td>-0.66569</td>\n",
              "      <td>0.627535</td>\n",
              "      <td>0.506902</td>\n",
              "      <td>-0.762974</td>\n",
              "      <td>0.081371</td>\n",
              "      <td>-0.278726</td>\n",
              "      <td>1.615821</td>\n",
              "      <td>-0.562016</td>\n",
              "      <td>-0.328376</td>\n",
              "      <td>-1.483941</td>\n",
              "      <td>-0.739646</td>\n",
              "      <td>-0.522109</td>\n",
              "      <td>-0.517715</td>\n",
              "      <td>-0.816759</td>\n",
              "      <td>-0.353665</td>\n",
              "      <td>-0.728075</td>\n",
              "      <td>-0.635093</td>\n",
              "      <td>-0.442582</td>\n",
              "      <td>-0.249307</td>\n",
              "      <td>-0.423990</td>\n",
              "      <td>-1.170845</td>\n",
              "      <td>-0.165472</td>\n",
              "      <td>0.995376</td>\n",
              "      <td>-0.561737</td>\n",
              "      <td>-0.238643</td>\n",
              "      <td>-0.150039</td>\n",
              "      <td>-0.397004</td>\n",
              "      <td>-0.211646</td>\n",
              "      <td>-0.245350</td>\n",
              "      <td>-0.189775</td>\n",
              "      <td>2.550362</td>\n",
              "      <td>-0.462367</td>\n",
              "      <td>-0.217555</td>\n",
              "      <td>-0.402852</td>\n",
              "      <td>-0.684789</td>\n",
              "      <td>1.563685</td>\n",
              "    </tr>\n",
              "    <tr>\n",
              "      <th>1725</th>\n",
              "      <td>-0.587994</td>\n",
              "      <td>-0.853798</td>\n",
              "      <td>-0.752860</td>\n",
              "      <td>-1.370254</td>\n",
              "      <td>-0.66569</td>\n",
              "      <td>0.627535</td>\n",
              "      <td>0.506902</td>\n",
              "      <td>-0.729211</td>\n",
              "      <td>0.116890</td>\n",
              "      <td>0.148522</td>\n",
              "      <td>-0.618880</td>\n",
              "      <td>-0.257068</td>\n",
              "      <td>-0.328376</td>\n",
              "      <td>-1.483941</td>\n",
              "      <td>-0.739646</td>\n",
              "      <td>-0.391544</td>\n",
              "      <td>-0.517715</td>\n",
              "      <td>0.543981</td>\n",
              "      <td>-0.517275</td>\n",
              "      <td>-0.728075</td>\n",
              "      <td>-0.635093</td>\n",
              "      <td>-0.442582</td>\n",
              "      <td>-0.249307</td>\n",
              "      <td>2.358546</td>\n",
              "      <td>-1.170845</td>\n",
              "      <td>-0.165472</td>\n",
              "      <td>-1.004646</td>\n",
              "      <td>-0.561737</td>\n",
              "      <td>-0.238643</td>\n",
              "      <td>-0.150039</td>\n",
              "      <td>-0.397004</td>\n",
              "      <td>-0.211646</td>\n",
              "      <td>-0.245350</td>\n",
              "      <td>-0.189775</td>\n",
              "      <td>-0.392101</td>\n",
              "      <td>-0.462367</td>\n",
              "      <td>-0.217555</td>\n",
              "      <td>-0.402852</td>\n",
              "      <td>-0.684789</td>\n",
              "      <td>-0.639515</td>\n",
              "    </tr>\n",
              "  </tbody>\n",
              "</table>\n",
              "<p>1726 rows × 40 columns</p>\n",
              "</div>"
            ],
            "text/plain": [
              "           Age  DistanceFromHome  ...  MaritalStatus__Married  MaritalStatus__Single\n",
              "0     0.932747          2.416631  ...                1.460304              -0.639515\n",
              "1     0.498250         -0.984615  ...                1.460304              -0.639515\n",
              "2    -0.153496         -1.115432  ...                1.460304              -0.639515\n",
              "3     0.498250          2.416631  ...               -0.684789              -0.639515\n",
              "4     0.172377          2.024179  ...               -0.684789              -0.639515\n",
              "...        ...               ...  ...                     ...                    ...\n",
              "1721 -0.044872         -0.068895  ...               -0.684789              -0.639515\n",
              "1722 -0.696618          0.977642  ...               -0.684789              -0.639515\n",
              "1723  0.715498         -0.592164  ...                1.460304              -0.639515\n",
              "1724 -0.587994         -0.068895  ...               -0.684789               1.563685\n",
              "1725 -0.587994         -0.853798  ...               -0.684789              -0.639515\n",
              "\n",
              "[1726 rows x 40 columns]"
            ]
          },
          "metadata": {
            "tags": []
          },
          "execution_count": 69
        }
      ]
    },
    {
      "cell_type": "markdown",
      "metadata": {
        "id": "_GkHsZXiXk94",
        "colab_type": "text"
      },
      "source": [
        "# PCA"
      ]
    },
    {
      "cell_type": "code",
      "metadata": {
        "id": "VdCi9szFcZfE",
        "colab_type": "code",
        "colab": {}
      },
      "source": [
        "#Covariance matrices\n",
        "cov_mat = np.cov(X_train_std.T)\n",
        "eigen_vals, eigen_vecs = np.linalg.eig(cov_mat)"
      ],
      "execution_count": 0,
      "outputs": []
    },
    {
      "cell_type": "code",
      "metadata": {
        "id": "RVVttSMXczAk",
        "colab_type": "code",
        "outputId": "fd44f3b5-136d-4702-b142-b8eda5ec1cd9",
        "colab": {
          "base_uri": "https://localhost:8080/",
          "height": 171
        }
      },
      "source": [
        "# calculate cumulative sum of explained variances\n",
        "tot = sum(eigen_vals)\n",
        "var_exp = [(i / tot) for i in sorted(eigen_vals, reverse=True)]\n",
        "cum_var_exp = np.cumsum(var_exp)\n",
        "print(var_exp)\n",
        "print(cum_var_exp)"
      ],
      "execution_count": 71,
      "outputs": [
        {
          "output_type": "stream",
          "text": [
            "[0.1268803934533496, 0.06857619093931308, 0.054223114477023236, 0.05064047072302832, 0.04487299815143147, 0.04056225603238794, 0.038655301731882044, 0.03688843840418055, 0.03422605600137512, 0.0316158482049519, 0.029370205205520947, 0.028109225108407295, 0.027763614024171365, 0.027367356238409968, 0.02688702988017024, 0.026564680227483182, 0.025623673676726296, 0.024309837661518646, 0.023831328279989725, 0.02263602476321393, 0.021973125661274004, 0.02156882602367274, 0.020908923000034538, 0.020266529291275634, 0.019533677928410483, 0.017893338309509704, 0.013646304706542533, 0.012786691465317294, 0.010844864008896104, 0.009724509828773459, 0.007360288140636554, 0.006437661371617634, 0.006105459766711276, 0.005709631723653028, 0.004237695875381058, 0.0033284959964088663, 0.002993310013325281, 0.0024374971675230777, 0.0020109992319632414, 0.0006281273045390546]\n",
            "[0.12688039 0.19545658 0.2496797  0.30032017 0.34519317 0.38575542\n",
            " 0.42441073 0.46129916 0.49552522 0.52714107 0.55651127 0.5846205\n",
            " 0.61238411 0.63975147 0.6666385  0.69320318 0.71882685 0.74313669\n",
            " 0.76696802 0.78960404 0.81157717 0.83314599 0.85405492 0.87432145\n",
            " 0.89385513 0.91174846 0.92539477 0.93818146 0.94902632 0.95875083\n",
            " 0.96611112 0.97254878 0.97865424 0.98436387 0.98860157 0.99193007\n",
            " 0.99492338 0.99736087 0.99937187 1.        ]\n"
          ],
          "name": "stdout"
        }
      ]
    },
    {
      "cell_type": "code",
      "metadata": {
        "id": "uVTzIS3qeN_k",
        "colab_type": "code",
        "outputId": "9462ee58-9c77-4ced-83c2-d62eff5066e1",
        "colab": {
          "base_uri": "https://localhost:8080/",
          "height": 502
        }
      },
      "source": [
        "# plot explained variances\n",
        "plt.bar(range(1,(len(var_exp)+1)), var_exp, alpha=0.5,align='center', label='individual explained variance')\n",
        "plt.step(range(1,(len(cum_var_exp)+1)), cum_var_exp, where='mid',label='cumulative explained variance')\n",
        "plt.ylabel('Explained variance ratio')\n",
        "plt.xlabel('Principal component index')\n",
        "plt.legend(loc='best')\n",
        "plt.show()"
      ],
      "execution_count": 72,
      "outputs": [
        {
          "output_type": "display_data",
          "data": {
            "image/png": "[encoded data removed]",
            "text/plain": [
              "<Figure size 1296x576 with 1 Axes>"
            ]
          },
          "metadata": {
            "tags": []
          }
        }
      ]
    },
    {
      "cell_type": "markdown",
      "metadata": {
        "id": "PeU4v4IR-dJb",
        "colab_type": "text"
      },
      "source": [
        "About 60% of the variance is explained by 15 PCAs. However as the data is not very sparse, we may not not need to use the PCs."
      ]
    },
    {
      "cell_type": "markdown",
      "metadata": {
        "id": "EdezdUWAJp8R",
        "colab_type": "text"
      },
      "source": [
        "# Fitting a baseline Logistic regression model ignoring highly corellated mutually dependant variables"
      ]
    },
    {
      "cell_type": "code",
      "metadata": {
        "id": "CZ-GyOzWISxl",
        "colab_type": "code",
        "outputId": "62c2940d-21ec-4760-d794-2bc35d2adcba",
        "colab": {
          "base_uri": "https://localhost:8080/",
          "height": 188
        }
      },
      "source": [
        "logreg = LogisticRegression()\n",
        "logreg.fit(X_train_std, os_data_y)"
      ],
      "execution_count": 73,
      "outputs": [
        {
          "output_type": "stream",
          "text": [
            "/usr/local/lib/python3.6/dist-packages/sklearn/linear_model/logistic.py:432: FutureWarning: Default solver will be changed to 'lbfgs' in 0.22. Specify a solver to silence this warning.\n",
            "  FutureWarning)\n",
            "/usr/local/lib/python3.6/dist-packages/sklearn/utils/validation.py:724: DataConversionWarning: A column-vector y was passed when a 1d array was expected. Please change the shape of y to (n_samples, ), for example using ravel().\n",
            "  y = column_or_1d(y, warn=True)\n"
          ],
          "name": "stderr"
        },
        {
          "output_type": "execute_result",
          "data": {
            "text/plain": [
              "LogisticRegression(C=1.0, class_weight=None, dual=False, fit_intercept=True,\n",
              "                   intercept_scaling=1, l1_ratio=None, max_iter=100,\n",
              "                   multi_class='warn', n_jobs=None, penalty='l2',\n",
              "                   random_state=None, solver='warn', tol=0.0001, verbose=0,\n",
              "                   warm_start=False)"
            ]
          },
          "metadata": {
            "tags": []
          },
          "execution_count": 73
        }
      ]
    },
    {
      "cell_type": "code",
      "metadata": {
        "id": "1iawZO2mIv-v",
        "colab_type": "code",
        "outputId": "076cb559-3d0b-4187-c6f7-4d6f2726dd4d",
        "colab": {
          "base_uri": "https://localhost:8080/",
          "height": 34
        }
      },
      "source": [
        "y_pred = logreg.predict(X_test_std)\n",
        "print('Accuracy of logistic regression classifier on test set: {:.2f}'.format(logreg.score(X_test_std, y_test)))"
      ],
      "execution_count": 74,
      "outputs": [
        {
          "output_type": "stream",
          "text": [
            "Accuracy of logistic regression classifier on test set: 0.89\n"
          ],
          "name": "stdout"
        }
      ]
    },
    {
      "cell_type": "code",
      "metadata": {
        "id": "3PutkxTjPwzf",
        "colab_type": "code",
        "outputId": "d9e449a4-3f1d-446e-b93c-16854cda1dd2",
        "colab": {
          "base_uri": "https://localhost:8080/",
          "height": 168
        }
      },
      "source": [
        "print(classification_report(y_test, y_pred))"
      ],
      "execution_count": 75,
      "outputs": [
        {
          "output_type": "stream",
          "text": [
            "              precision    recall  f1-score   support\n",
            "\n",
            "           0       0.90      0.97      0.94       370\n",
            "           1       0.76      0.45      0.57        71\n",
            "\n",
            "    accuracy                           0.89       441\n",
            "   macro avg       0.83      0.71      0.75       441\n",
            "weighted avg       0.88      0.89      0.88       441\n",
            "\n"
          ],
          "name": "stdout"
        }
      ]
    },
    {
      "cell_type": "markdown",
      "metadata": {
        "id": "JPSuB2I6vYjr",
        "colab_type": "text"
      },
      "source": [
        "The reported averages include macro average (averaging the unweighted mean per label), weighted average (averaging the support-weighted mean per label), sample average (only for multilabel classification) and micro average (averaging the total true positives, false negatives and false positives) it is only shown for multi-label or multi-class with a subset of classes because it is accuracy otherwise.\n",
        "\n",
        "Note that in binary classification, recall of the positive class is also known as “sensitivity”; recall of the negative class is “specificity”.\n",
        "\n",
        "\n",
        "In this example, it is important to identify the percent of positive predictions that were correct. Else, we may end up applying attrition mitigating practices to like a promotions or pay hikes to employees that do not plan to leave the company. Thus we will focus on recall. Though the recall of the 0 class is great (98%), the recall of the positive class is not (41%) despite it being a balanced training data."
      ]
    },
    {
      "cell_type": "code",
      "metadata": {
        "id": "ip1jMAh7uzAf",
        "colab_type": "code",
        "outputId": "2b909dd3-9683-45b0-a3be-01c4a4618827",
        "colab": {
          "base_uri": "https://localhost:8080/",
          "height": 518
        }
      },
      "source": [
        "logit_roc_auc = roc_auc_score(y_test, logreg.predict(X_test_std))\n",
        "fpr, tpr, thresholds = roc_curve(y_test, logreg.predict_proba(X_test_std)[:,1])\n",
        "plt.figure()\n",
        "plt.plot(fpr, tpr, label='Logistic Regression (area = %0.2f)' % logit_roc_auc)\n",
        "plt.plot([0, 1], [0, 1],'r--')\n",
        "plt.xlim([0.0, 1.0])\n",
        "plt.ylim([0.0, 1.05])\n",
        "plt.xlabel('False Positive Rate')\n",
        "plt.ylabel('True Positive Rate')\n",
        "plt.title('Receiver operating characteristic')\n",
        "plt.legend(loc=\"lower right\")\n",
        "plt.savefig('Log_ROC')\n",
        "plt.show()"
      ],
      "execution_count": 76,
      "outputs": [
        {
          "output_type": "display_data",
          "data": {
            "image/png": "[encoded data removed]",
            "text/plain": [
              "<Figure size 1296x576 with 1 Axes>"
            ]
          },
          "metadata": {
            "tags": []
          }
        }
      ]
    },
    {
      "cell_type": "markdown",
      "metadata": {
        "id": "UxQxCh2GF2pY",
        "colab_type": "text"
      },
      "source": [
        "The ROC curve supports our conclusion from the confusion matrix. Thus we must check if the model is overfitting."
      ]
    },
    {
      "cell_type": "markdown",
      "metadata": {
        "id": "Bf2GTaJZGPDP",
        "colab_type": "text"
      },
      "source": [
        "# Cross Validation"
      ]
    },
    {
      "cell_type": "code",
      "metadata": {
        "id": "03x9W1cSA6z-",
        "colab_type": "code",
        "colab": {
          "base_uri": "https://localhost:8080/",
          "height": 406
        },
        "outputId": "1fd26be9-fb06-4c98-b7d3-aa40a22bb032"
      },
      "source": [
        "logreg=LogisticRegression()\n",
        "predicted = cross_validate(logreg, X_train_std, os_data_y,scoring='recall', cv=5)\n",
        "print(sorted(predicted.keys()))  \n",
        "predicted['test_score'].mean()"
      ],
      "execution_count": 77,
      "outputs": [
        {
          "output_type": "stream",
          "text": [
            "['fit_time', 'score_time', 'test_score']\n"
          ],
          "name": "stdout"
        },
        {
          "output_type": "stream",
          "text": [
            "/usr/local/lib/python3.6/dist-packages/sklearn/linear_model/logistic.py:432: FutureWarning: Default solver will be changed to 'lbfgs' in 0.22. Specify a solver to silence this warning.\n",
            "  FutureWarning)\n",
            "/usr/local/lib/python3.6/dist-packages/sklearn/utils/validation.py:724: DataConversionWarning: A column-vector y was passed when a 1d array was expected. Please change the shape of y to (n_samples, ), for example using ravel().\n",
            "  y = column_or_1d(y, warn=True)\n",
            "/usr/local/lib/python3.6/dist-packages/sklearn/linear_model/logistic.py:432: FutureWarning: Default solver will be changed to 'lbfgs' in 0.22. Specify a solver to silence this warning.\n",
            "  FutureWarning)\n",
            "/usr/local/lib/python3.6/dist-packages/sklearn/utils/validation.py:724: DataConversionWarning: A column-vector y was passed when a 1d array was expected. Please change the shape of y to (n_samples, ), for example using ravel().\n",
            "  y = column_or_1d(y, warn=True)\n",
            "/usr/local/lib/python3.6/dist-packages/sklearn/linear_model/logistic.py:432: FutureWarning: Default solver will be changed to 'lbfgs' in 0.22. Specify a solver to silence this warning.\n",
            "  FutureWarning)\n",
            "/usr/local/lib/python3.6/dist-packages/sklearn/utils/validation.py:724: DataConversionWarning: A column-vector y was passed when a 1d array was expected. Please change the shape of y to (n_samples, ), for example using ravel().\n",
            "  y = column_or_1d(y, warn=True)\n",
            "/usr/local/lib/python3.6/dist-packages/sklearn/linear_model/logistic.py:432: FutureWarning: Default solver will be changed to 'lbfgs' in 0.22. Specify a solver to silence this warning.\n",
            "  FutureWarning)\n",
            "/usr/local/lib/python3.6/dist-packages/sklearn/utils/validation.py:724: DataConversionWarning: A column-vector y was passed when a 1d array was expected. Please change the shape of y to (n_samples, ), for example using ravel().\n",
            "  y = column_or_1d(y, warn=True)\n",
            "/usr/local/lib/python3.6/dist-packages/sklearn/linear_model/logistic.py:432: FutureWarning: Default solver will be changed to 'lbfgs' in 0.22. Specify a solver to silence this warning.\n",
            "  FutureWarning)\n",
            "/usr/local/lib/python3.6/dist-packages/sklearn/utils/validation.py:724: DataConversionWarning: A column-vector y was passed when a 1d array was expected. Please change the shape of y to (n_samples, ), for example using ravel().\n",
            "  y = column_or_1d(y, warn=True)\n"
          ],
          "name": "stderr"
        },
        {
          "output_type": "execute_result",
          "data": {
            "text/plain": [
              "0.8150221804005915"
            ]
          },
          "metadata": {
            "tags": []
          },
          "execution_count": 77
        }
      ]
    },
    {
      "cell_type": "markdown",
      "metadata": {
        "id": "QY_RsZweYJq_",
        "colab_type": "text"
      },
      "source": [
        "We see that on using cv, we see a mean recall of 81% which is an improvement from the 69% seen earlier. Though more data is needed to have better prediction abilities"
      ]
    },
    {
      "cell_type": "markdown",
      "metadata": {
        "id": "8ByjodQVwqoV",
        "colab_type": "text"
      },
      "source": [
        "# Contextualizing the model"
      ]
    },
    {
      "cell_type": "code",
      "metadata": {
        "id": "QLIJml5VoZWp",
        "colab_type": "code",
        "colab": {}
      },
      "source": [
        "#After deleting some columns to solve singularity\n",
        "dummy=pd.concat([X_train_std,os_data_y],axis=1)"
      ],
      "execution_count": 0,
      "outputs": []
    },
    {
      "cell_type": "code",
      "metadata": {
        "id": "uqMnKiWZn-91",
        "colab_type": "code",
        "colab": {
          "base_uri": "https://localhost:8080/",
          "height": 716
        },
        "outputId": "93a413a9-a501-4c8c-c042-a312fb7be691"
      },
      "source": [
        "sns.set(rc={'figure.figsize': (18,8)})\n",
        "sns.heatmap(dummy.corr(),vmin=-1.0,vmax=1.0,cmap='GnBu')"
      ],
      "execution_count": 81,
      "outputs": [
        {
          "output_type": "execute_result",
          "data": {
            "text/plain": [
              "<matplotlib.axes._subplots.AxesSubplot at 0x7f53a8c41668>"
            ]
          },
          "metadata": {
            "tags": []
          },
          "execution_count": 81
        },
        {
          "output_type": "display_data",
          "data": {
            "image/png": "[encoded data removed]",
            "text/plain": [
              "<Figure size 1296x576 with 2 Axes>"
            ]
          },
          "metadata": {
            "tags": []
          }
        }
      ]
    },
    {
      "cell_type": "code",
      "metadata": {
        "id": "6HU7XXaJmAMB",
        "colab_type": "code",
        "colab": {
          "base_uri": "https://localhost:8080/",
          "height": 1000
        },
        "outputId": "11329c48-b04d-4264-8b8d-720f924433db"
      },
      "source": [
        "import statsmodels.api as sm\n",
        "logit_model=sm.Logit(os_data_y,X_train_std)\n",
        "result=logit_model.fit()\n",
        "resulty=result.summary2()\n",
        "print(resulty)"
      ],
      "execution_count": 88,
      "outputs": [
        {
          "output_type": "stream",
          "text": [
            "Warning: Maximum number of iterations has been exceeded.\n",
            "         Current function value: 0.180707\n",
            "         Iterations: 35\n",
            "                                         Results: Logit\n",
            "================================================================================================\n",
            "Model:                         Logit                       Pseudo R-squared:            0.739   \n",
            "Dependent Variable:            Attrition                   AIC:                         703.8014\n",
            "Date:                          2019-11-04 23:18            BIC:                         921.9438\n",
            "No. Observations:              1726                        Log-Likelihood:              -311.90 \n",
            "Df Model:                      39                          LL-Null:                     -1196.4 \n",
            "Df Residuals:                  1686                        LLR p-value:                 0.0000  \n",
            "Converged:                     0.0000                      Scale:                       1.0000  \n",
            "No. Iterations:                35.0000                                                          \n",
            "------------------------------------------------------------------------------------------------\n",
            "                                     Coef.     Std.Err.     z    P>|z|     [0.025       0.975]  \n",
            "------------------------------------------------------------------------------------------------\n",
            "Age                                  -0.2860      0.1486 -1.9245 0.0543      -0.5772      0.0053\n",
            "DistanceFromHome                      0.3339      0.0978  3.4124 0.0006       0.1421      0.5257\n",
            "Education                             0.0685      0.1010  0.6779 0.4978      -0.1295      0.2664\n",
            "EnvironmentSatisfaction              -0.3682      0.1019 -3.6134 0.0003      -0.5679     -0.1685\n",
            "Gender                               -0.1620      0.1002 -1.6163 0.1060      -0.3584      0.0344\n",
            "JobInvolvement                       -0.3598      0.1085 -3.3153 0.0009      -0.5725     -0.1471\n",
            "JobSatisfaction                      -0.6000      0.1041 -5.7649 0.0000      -0.8040     -0.3960\n",
            "MonthlyIncome                         0.0845      0.3047  0.2774 0.7815      -0.5126      0.6816\n",
            "MonthlyRate                           0.0826      0.1011  0.8168 0.4140      -0.1156      0.2808\n",
            "NumCompaniesWorked                    0.5353      0.1082  4.9497 0.0000       0.3233      0.7473\n",
            "OverTime                              0.8780      0.1024  8.5722 0.0000       0.6772      1.0787\n",
            "PercentSalaryHike                    -0.0273      0.1483 -0.1839 0.8541      -0.3180      0.2634\n",
            "PerformanceRating                    -0.0950      0.1410 -0.6743 0.5001      -0.3713      0.1812\n",
            "RelationshipSatisfaction             -0.3225      0.1021 -3.1589 0.0016      -0.5227     -0.1224\n",
            "StockOptionLevel                     -0.0830      0.1462 -0.5675 0.5704      -0.3695      0.2036\n",
            "TotalWorkingYears                    -0.6911      0.2576 -2.6834 0.0073      -1.1959     -0.1863\n",
            "TrainingTimesLastYear                -0.2817      0.1058 -2.6615 0.0078      -0.4891     -0.0742\n",
            "WorkLifeBalance                      -0.4181      0.1072 -3.9002 0.0001      -0.6282     -0.2080\n",
            "YearsAtCompany                        0.6379      0.2846  2.2414 0.0250       0.0801      1.1957\n",
            "YearsInCurrentRole                   -0.4811      0.1761 -2.7324 0.0063      -0.8262     -0.1360\n",
            "YearsSinceLastPromotion               0.5250      0.1549  3.3887 0.0007       0.2213      0.8286\n",
            "YearsWithCurrManager                 -0.4287      0.1882 -2.2777 0.0227      -0.7977     -0.0598\n",
            "BusinessTravel__Non-Travel           -3.2238     29.8343 -0.1081 0.9140     -61.6980     55.2504\n",
            "BusinessTravel__Travel_Frequently    -4.1558     45.6801 -0.0910 0.9275     -93.6871     85.3755\n",
            "BusinessTravel__Travel_Rarely        -6.1748     62.7707 -0.0984 0.9216    -129.2031    116.8536\n",
            "Department__Human Resources        -479.3608 224368.5337 -0.0021 0.9983 -440233.6062 439274.8846\n",
            "Department__Research & Development   -2.6042  13986.0487 -0.0002 0.9999  -27414.7560  27409.5476\n",
            "Department__Sales                    -2.4965  11944.1706 -0.0002 0.9998  -23412.6406  23407.6476\n",
            "JobRole__Healthcare Representative   -5.1799   1412.4485 -0.0037 0.9971   -2773.5281   2763.1683\n",
            "JobRole__Human Resources            432.8765 200429.4499  0.0022 0.9983 -392401.6269 393267.3798\n",
            "JobRole__Laboratory Technician       -7.3377   2145.4125 -0.0034 0.9973   -4212.2689   4197.5935\n",
            "JobRole__Manager                     -4.5154   1267.2402 -0.0036 0.9972   -2488.2605   2479.2297\n",
            "JobRole__Manufacturing Director      -5.2406   1447.6990 -0.0036 0.9971   -2842.6786   2832.1974\n",
            "JobRole__Research Director           -4.3500   1145.9118 -0.0038 0.9970   -2250.2958   2241.5958\n",
            "JobRole__Research Scientist          -7.5938   2126.0221 -0.0036 0.9972   -4174.5204   4159.3329\n",
            "JobRole__Sales Executive             -7.9867   2383.0033 -0.0034 0.9973   -4678.5874   4662.6140\n",
            "JobRole__Sales Representative        -4.1425   1299.4631 -0.0032 0.9975   -2551.0434   2542.7585\n",
            "MaritalStatus__Divorced              -7.3219    629.5011 -0.0116 0.9907   -1241.1214   1226.4777\n",
            "MaritalStatus__Married               -9.5740    846.6804 -0.0113 0.9910   -1669.0371   1649.8890\n",
            "MaritalStatus__Single                -8.8163    824.3500 -0.0107 0.9915   -1624.5127   1606.8801\n",
            "================================================================================================\n",
            "\n"
          ],
          "name": "stdout"
        },
        {
          "output_type": "stream",
          "text": [
            "/usr/local/lib/python3.6/dist-packages/statsmodels/discrete/discrete_model.py:1736: RuntimeWarning: overflow encountered in exp\n",
            "  return 1/(1+np.exp(-X))\n",
            "/usr/local/lib/python3.6/dist-packages/statsmodels/base/model.py:512: ConvergenceWarning: Maximum Likelihood optimization failed to converge. Check mle_retvals\n",
            "  \"Check mle_retvals\", ConvergenceWarning)\n"
          ],
          "name": "stderr"
        }
      ]
    },
    {
      "cell_type": "markdown",
      "metadata": {
        "id": "bs0KNfRDxDdE",
        "colab_type": "text"
      },
      "source": [
        "# Insights"
      ]
    },
    {
      "cell_type": "markdown",
      "metadata": {
        "id": "t3iLfvNCt2Gd",
        "colab_type": "text"
      },
      "source": [
        "Thus we see that the below factors play an important role in predicting attrition:\n",
        "\n",
        "DistanceFromHome            \n",
        "EnvironmentSatisfaction   \n",
        "JobInvolvement       \n",
        "JobSatisfaction           \n",
        "OverTime                              \n",
        "PerformanceRating                    \n",
        "RelationshipSatisfaction             \n",
        "TotalWorkingYears    \n",
        "TrainingTimesLastYear     \n",
        "WorkLifeBalance        \n",
        "YearsAtCompany        \n",
        "YearsInCurrentRole    \n",
        "YearsSinceLastPromotion     \n",
        "YearsWithCurrManager    \n",
        "\n",
        "Though most of these relationships appeal to the common employee behavior, surprisingly promotions, usually used as a employee retention technique shows a positive corellation with attrition. Strikingly, pay related issues do not stand out as strong predictors of attrition. \n",
        "\n",
        "These features make a strong case towards investing more in intra-company relationships. The Managers also seem to play an imporatant role in preventing attrition. Department level data cuts and visulazations based on these parameters can provide some valueable insights.\n",
        "\n",
        "Currently, we can predict attrition with a mean recall of 81%, data with more variance may help better prediction abilities.\n"
      ]
    }
  ]
}